{
 "cells": [
  {
   "cell_type": "markdown",
   "id": "c4274585",
   "metadata": {},
   "source": [
    "# Project - Sentence Completion Using Recurrent Neural Networks and tensors:"
   ]
  },
  {
   "cell_type": "markdown",
   "id": "3e6db10b",
   "metadata": {},
   "source": [
    "### Opening file with file handling"
   ]
  },
  {
   "cell_type": "code",
   "execution_count": 41,
   "id": "760f0e37",
   "metadata": {},
   "outputs": [],
   "source": [
    "f=open('sherlock.txt','r',encoding='utf-8')"
   ]
  },
  {
   "cell_type": "code",
   "execution_count": 42,
   "id": "25cf21a0",
   "metadata": {},
   "outputs": [],
   "source": [
    "data=f.read()"
   ]
  },
  {
   "cell_type": "code",
   "execution_count": 43,
   "id": "bf24bc36",
   "metadata": {},
   "outputs": [
    {
     "data": {
      "text/plain": [
       "\"Project Gutenberg's The Adventures of Sherlock Holmes, by Arthur Conan Doyle\\n\\nThis eBook is for the use of anyone anywhere at no cost and with\\nalmost no restrictions whatsoever.  You may copy it, give it away or\\nre-use it under the terms of the Project Gutenberg License included\\nwith this eBook or online at www.gutenberg.net\\n\\n\\nTitle: The Adventures of Sherlock Holmes\\n\\nAuthor: Arthur Conan Doyle\\n\\nPosting Date: April 18, 2011 [EBook #1661]\\nFirst Posted: November 29, 2002\\n\\nLanguage: English\\n\\n\\n*** START OF THIS PROJECT GUTENBERG EBOOK THE ADVENTURES OF SHERLOCK HOLMES ***\\n\\n\\n\\n\\nProduced by an anonymous Project Gutenberg volunteer and Jose Menendez\\n\\n\\n\\n\\n\\n\\n\\n\\n\\nTHE ADVENTURES OF SHERLOCK HOLMES\\n\\nby\\n\\nSIR ARTHUR CONAN DOYLE\\n\\n\\n\\n   I. A Scandal in Bohemia\\n  II. The Red-headed League\\n III. A Case of Identity\\n  IV. The Boscombe Valley Mystery\\n   V. The Five Orange Pips\\n  VI. The Man with the Twisted Lip\\n VII. The Adventure of the Blue Carbuncle\\nVIII. The Adventure of the Speckled Band\\n  IX. The Adventure of the Engineer's Thumb\\n   X. The Adventure of the Noble Bachelor\\n  XI. The Adventure of the Beryl Coronet\\n XII. The Adventure of the Copper Beeches\\n\\n\\n\\n\\nADVENTURE I. A SCANDAL IN BOHEMIA\\n\\nI.\\n\\nTo Sherlock Holmes she is always THE woman. I have seldom heard\\nhim mention her under any other name. In his eyes she eclipses\\nand predominates the whole of her sex. It was not that he felt\\nany emotion akin to love for Irene Adler. All emotions, and that\\none particularly, were abhorrent to his cold, precise but\\nadmirably balanced mind. He was, I take it, the most perfect\\nreasoning and observing machine that the world has seen, but as a\\nlover he would have placed himself in a false position. He never\\nspoke of the softer passions, save with a gibe and a sneer. They\\nwere admirable things for the observer--excellent for drawing the\\nveil from men's motives and actions. But for the trained reasoner\\nto admit such intrusions into his own delicate and finely\\nadjusted temperament was to introduce a distracting factor which\\nmight throw a doubt upon all his mental results. Grit in a\\nsensitive instrument, or a crack in one of his own high-power\\nlenses, would not be more disturbing than a strong emotion in a\\nnature such as his. And yet there was but one woman to him, and\\nthat woman was the late Irene Adler, of dubious and questionable\\nmemory.\\n\\nI had seen little of Holmes lately. My marriage had drifted us\\naway from each other. My own complete happiness, and the\\nhome-centred interests which rise up around the man who first\\nfinds himself master of his own establishment, were sufficient to\\nabsorb all my attention, while Holmes, who loathed every form of\\nsociety with his whole Bohemian soul, remained in our lodgings in\\nBaker Street, buried among his old books, and alternating from\\nweek to week between cocaine and ambition, the drowsiness of the\\ndrug, and the fierce energy of his own keen nature. He was still,\\nas ever, deeply attracted by the study of crime, and occupied his\\nimmense faculties \""
      ]
     },
     "execution_count": 43,
     "metadata": {},
     "output_type": "execute_result"
    }
   ],
   "source": [
    "data[0:3000]"
   ]
  },
  {
   "cell_type": "code",
   "execution_count": 44,
   "id": "dde6a670",
   "metadata": {},
   "outputs": [
    {
     "data": {
      "text/plain": [
       "581862"
      ]
     },
     "execution_count": 44,
     "metadata": {},
     "output_type": "execute_result"
    }
   ],
   "source": [
    "len(data)"
   ]
  },
  {
   "cell_type": "code",
   "execution_count": 45,
   "id": "ea4f632c",
   "metadata": {},
   "outputs": [],
   "source": [
    "data=data[0:3000]\n",
    "#Used Only 3000 words because 10-20000 data taking so much time"
   ]
  },
  {
   "cell_type": "markdown",
   "id": "b2610934",
   "metadata": {},
   "source": [
    "### Removing Special Characters"
   ]
  },
  {
   "cell_type": "code",
   "execution_count": 46,
   "id": "3848b6e1",
   "metadata": {},
   "outputs": [],
   "source": [
    "#removing special characters \n",
    "Q=[]\n",
    "import re\n",
    "for i in data.split(' '):\n",
    "    w=re.sub('[^a-zA-Z0-9 ]','',i)\n",
    "    w=w.upper()\n",
    "    if w != '':\n",
    "        Q.append(w)\n",
    "#i am not doing stemming and lemmatization because i want data in real words"
   ]
  },
  {
   "cell_type": "markdown",
   "id": "33659a38",
   "metadata": {},
   "source": [
    "## Creating data for training\n",
    "#### In 4 words as input and 1 as output format"
   ]
  },
  {
   "cell_type": "code",
   "execution_count": 47,
   "id": "93346665",
   "metadata": {},
   "outputs": [],
   "source": [
    "xtr=[]\n",
    "ytr=[]\n",
    "\n",
    "for i in range(4,len(Q),1):\n",
    "    w1=Q[i-4]\n",
    "    w2=Q[i-3]\n",
    "    w3=Q[i-2]\n",
    "    w4=Q[i-1]\n",
    "    wy=Q[i]\n",
    "    line=w1+' '+w2+' '+w3+' '+w4\n",
    "    xtr.append(line)\n",
    "    ytr.append(wy)"
   ]
  },
  {
   "cell_type": "code",
   "execution_count": 48,
   "id": "5044b263",
   "metadata": {},
   "outputs": [
    {
     "data": {
      "text/plain": [
       "459"
      ]
     },
     "execution_count": 48,
     "metadata": {},
     "output_type": "execute_result"
    }
   ],
   "source": [
    "len(xtr)"
   ]
  },
  {
   "cell_type": "code",
   "execution_count": 49,
   "id": "c72963fd",
   "metadata": {},
   "outputs": [
    {
     "data": {
      "text/plain": [
       "459"
      ]
     },
     "execution_count": 49,
     "metadata": {},
     "output_type": "execute_result"
    }
   ],
   "source": [
    "len(ytr)"
   ]
  },
  {
   "cell_type": "code",
   "execution_count": 50,
   "id": "3d184a8c",
   "metadata": {},
   "outputs": [
    {
     "data": {
      "text/plain": [
       "['PROJECT GUTENBERGS THE ADVENTURES',\n",
       " 'GUTENBERGS THE ADVENTURES OF',\n",
       " 'THE ADVENTURES OF SHERLOCK',\n",
       " 'ADVENTURES OF SHERLOCK HOLMES',\n",
       " 'OF SHERLOCK HOLMES BY',\n",
       " 'SHERLOCK HOLMES BY ARTHUR',\n",
       " 'HOLMES BY ARTHUR CONAN',\n",
       " 'BY ARTHUR CONAN DOYLETHIS',\n",
       " 'ARTHUR CONAN DOYLETHIS EBOOK',\n",
       " 'CONAN DOYLETHIS EBOOK IS',\n",
       " 'DOYLETHIS EBOOK IS FOR',\n",
       " 'EBOOK IS FOR THE',\n",
       " 'IS FOR THE USE',\n",
       " 'FOR THE USE OF',\n",
       " 'THE USE OF ANYONE',\n",
       " 'USE OF ANYONE ANYWHERE',\n",
       " 'OF ANYONE ANYWHERE AT',\n",
       " 'ANYONE ANYWHERE AT NO',\n",
       " 'ANYWHERE AT NO COST',\n",
       " 'AT NO COST AND',\n",
       " 'NO COST AND WITHALMOST',\n",
       " 'COST AND WITHALMOST NO',\n",
       " 'AND WITHALMOST NO RESTRICTIONS',\n",
       " 'WITHALMOST NO RESTRICTIONS WHATSOEVER',\n",
       " 'NO RESTRICTIONS WHATSOEVER YOU',\n",
       " 'RESTRICTIONS WHATSOEVER YOU MAY',\n",
       " 'WHATSOEVER YOU MAY COPY',\n",
       " 'YOU MAY COPY IT',\n",
       " 'MAY COPY IT GIVE',\n",
       " 'COPY IT GIVE IT']"
      ]
     },
     "execution_count": 50,
     "metadata": {},
     "output_type": "execute_result"
    }
   ],
   "source": [
    "xtr[0:30]"
   ]
  },
  {
   "cell_type": "code",
   "execution_count": 51,
   "id": "afd4ebac",
   "metadata": {},
   "outputs": [
    {
     "data": {
      "text/plain": [
       "['OF',\n",
       " 'SHERLOCK',\n",
       " 'HOLMES',\n",
       " 'BY',\n",
       " 'ARTHUR',\n",
       " 'CONAN',\n",
       " 'DOYLETHIS',\n",
       " 'EBOOK',\n",
       " 'IS',\n",
       " 'FOR',\n",
       " 'THE',\n",
       " 'USE',\n",
       " 'OF',\n",
       " 'ANYONE',\n",
       " 'ANYWHERE',\n",
       " 'AT',\n",
       " 'NO',\n",
       " 'COST',\n",
       " 'AND',\n",
       " 'WITHALMOST',\n",
       " 'NO',\n",
       " 'RESTRICTIONS',\n",
       " 'WHATSOEVER',\n",
       " 'YOU',\n",
       " 'MAY',\n",
       " 'COPY',\n",
       " 'IT',\n",
       " 'GIVE',\n",
       " 'IT',\n",
       " 'AWAY']"
      ]
     },
     "execution_count": 51,
     "metadata": {},
     "output_type": "execute_result"
    }
   ],
   "source": [
    "ytr[0:30]"
   ]
  },
  {
   "cell_type": "markdown",
   "id": "1f5b1316",
   "metadata": {},
   "source": [
    "# FInd Unique words"
   ]
  },
  {
   "cell_type": "code",
   "execution_count": 52,
   "id": "651c237a",
   "metadata": {},
   "outputs": [
    {
     "data": {
      "text/plain": [
       "array(['1661FIRST', '18', '2002LANGUAGE', '2011', '29', 'A', 'ABHORRENT',\n",
       "       'ACTIONS', 'ADLER', 'ADMIRABLE', 'ADMIT', 'ADVENTURE',\n",
       "       'ADVENTURES', 'AKIN', 'ALL', 'ALOVER', 'ALTERNATING', 'ALWAYS',\n",
       "       'AMBITION', 'AMONG', 'AN', 'ANATURE', 'AND', 'ANDTHAT',\n",
       "       'ANONYMOUS', 'ANY', 'ANYONE', 'ANYWHERE', 'APRIL', 'AROUND',\n",
       "       'ARTHUR', 'AS', 'ASENSITIVE', 'AT', 'ATTENTION', 'ATTRACTED',\n",
       "       'AWAY', 'BACHELOR', 'BALANCED', 'BAND', 'BE', 'BEECHESADVENTURE',\n",
       "       'BERYL', 'BETWEEN', 'BLUE', 'BOHEMIA', 'BOHEMIAITO', 'BOHEMIAN',\n",
       "       'BOOKS', 'BOSCOMBE', 'BURIED', 'BUT', 'BUTADMIRABLY', 'BY',\n",
       "       'CARBUNCLEVIII', 'CASE', 'COCAINE', 'COLD', 'COMPLETE', 'CONAN',\n",
       "       'COPPER', 'COPY', 'CORONET', 'COST', 'CRACK', 'CRIME', 'DATE',\n",
       "       'DEEPLY', 'DELICATE', 'DISTRACTING', 'DISTURBING', 'DOUBT',\n",
       "       'DOYLE', 'DOYLEPOSTING', 'DOYLETHIS', 'DRAWING', 'DRIFTED',\n",
       "       'DROWSINESS', 'DUBIOUS', 'EACH', 'EBOOK', 'ECLIPSESAND', 'EMOTION',\n",
       "       'EMOTIONS', 'ENERGY', 'ENGINEERS', 'ENGLISH', 'ESTABLISHMENT',\n",
       "       'EVER', 'EVERY', 'EYES', 'FACTOR', 'FACULTIES', 'FALSE', 'FELTANY',\n",
       "       'FIERCE', 'FINELYADJUSTED', 'FIRSTFINDS', 'FIVE', 'FOR'],\n",
       "      dtype='<U20')"
      ]
     },
     "execution_count": 52,
     "metadata": {},
     "output_type": "execute_result"
    }
   ],
   "source": [
    "from numpy import unique\n",
    "unique_words=unique(Q)\n",
    "unique_words[0:100]"
   ]
  },
  {
   "cell_type": "code",
   "execution_count": 53,
   "id": "699d1a0a",
   "metadata": {},
   "outputs": [
    {
     "data": {
      "text/plain": [
       "273"
      ]
     },
     "execution_count": 53,
     "metadata": {},
     "output_type": "execute_result"
    }
   ],
   "source": [
    "len(unique_words)"
   ]
  },
  {
   "cell_type": "markdown",
   "id": "68a967c0",
   "metadata": {},
   "source": [
    "## Changing training data into X and Y format"
   ]
  },
  {
   "cell_type": "code",
   "execution_count": 54,
   "id": "824ff395",
   "metadata": {},
   "outputs": [],
   "source": [
    "#now i have to change training data into 3d array and output of training data into 2d arrray\n",
    "lines=len(xtr)\n",
    "uniques=len(unique_words)\n",
    "seq=4"
   ]
  },
  {
   "cell_type": "code",
   "execution_count": 55,
   "id": "8352984f",
   "metadata": {},
   "outputs": [],
   "source": [
    "from numpy import zeros\n",
    "xtr_arr=zeros((lines,uniques,seq))\n",
    "ytr_arr=zeros((lines,uniques))"
   ]
  },
  {
   "cell_type": "markdown",
   "id": "d7163f7e",
   "metadata": {},
   "source": [
    "### Indexing the lines and words "
   ]
  },
  {
   "cell_type": "code",
   "execution_count": 56,
   "id": "8ad4596e",
   "metadata": {},
   "outputs": [],
   "source": [
    "line_enum=list(enumerate(xtr))\n",
    "unique_enum=list(enumerate(unique_words))"
   ]
  },
  {
   "cell_type": "code",
   "execution_count": 57,
   "id": "0b2b9663",
   "metadata": {},
   "outputs": [],
   "source": [
    "#lookup operation for finding the index of word\n",
    "position_finder={}\n",
    "for i,j in unique_enum:\n",
    "    position_finder[j]=i"
   ]
  },
  {
   "cell_type": "code",
   "execution_count": 58,
   "id": "c9d2ad74",
   "metadata": {},
   "outputs": [
    {
     "data": {
      "text/plain": [
       "229"
      ]
     },
     "execution_count": 58,
     "metadata": {},
     "output_type": "execute_result"
    }
   ],
   "source": [
    "position_finder['THE']"
   ]
  },
  {
   "cell_type": "code",
   "execution_count": 59,
   "id": "20e4627d",
   "metadata": {},
   "outputs": [
    {
     "data": {
      "text/plain": [
       "(5, 'SHERLOCK HOLMES BY ARTHUR')"
      ]
     },
     "execution_count": 59,
     "metadata": {},
     "output_type": "execute_result"
    }
   ],
   "source": [
    "line_enum[5]"
   ]
  },
  {
   "cell_type": "code",
   "execution_count": 60,
   "id": "e6cb5a5f",
   "metadata": {},
   "outputs": [],
   "source": [
    "#creating 3D array (X)\n",
    "for line_no,line in line_enum:\n",
    "    for seq,word in enumerate(line.split(' ')):\n",
    "        xtr_arr[line_no,position_finder[word],seq]=1\n",
    "    "
   ]
  },
  {
   "cell_type": "code",
   "execution_count": 61,
   "id": "bf0b8c8d",
   "metadata": {},
   "outputs": [],
   "source": [
    "position=position_finder['BY']"
   ]
  },
  {
   "cell_type": "code",
   "execution_count": 62,
   "id": "f977620c",
   "metadata": {},
   "outputs": [],
   "source": [
    "#xtr_arr[5,497,2]"
   ]
  },
  {
   "cell_type": "code",
   "execution_count": 63,
   "id": "038f9eff",
   "metadata": {},
   "outputs": [],
   "source": [
    "#Creating Y array\n",
    "for i,j in enumerate(ytr):\n",
    "    pos=position_finder[j]\n",
    "    ytr_arr[i,pos]=1"
   ]
  },
  {
   "cell_type": "code",
   "execution_count": 64,
   "id": "def0082a",
   "metadata": {},
   "outputs": [],
   "source": [
    "#ytr_arr[3,497]"
   ]
  },
  {
   "cell_type": "code",
   "execution_count": 65,
   "id": "7a4bcc85",
   "metadata": {},
   "outputs": [
    {
     "data": {
      "text/plain": [
       "(459, 273, 4)"
      ]
     },
     "execution_count": 65,
     "metadata": {},
     "output_type": "execute_result"
    }
   ],
   "source": [
    "xtr_arr.shape"
   ]
  },
  {
   "cell_type": "code",
   "execution_count": 66,
   "id": "e61c5241",
   "metadata": {},
   "outputs": [
    {
     "data": {
      "text/plain": [
       "(273, 4)"
      ]
     },
     "execution_count": 66,
     "metadata": {},
     "output_type": "execute_result"
    }
   ],
   "source": [
    "SHAPE=xtr_arr.shape[1:3]\n",
    "SHAPE"
   ]
  },
  {
   "cell_type": "code",
   "execution_count": 67,
   "id": "d2c32062",
   "metadata": {},
   "outputs": [],
   "source": [
    "hidden_neurons=SHAPE[0]"
   ]
  },
  {
   "cell_type": "code",
   "execution_count": 68,
   "id": "ac25ec27",
   "metadata": {},
   "outputs": [
    {
     "data": {
      "text/plain": [
       "273"
      ]
     },
     "execution_count": 68,
     "metadata": {},
     "output_type": "execute_result"
    }
   ],
   "source": [
    "uniques"
   ]
  },
  {
   "cell_type": "markdown",
   "id": "9ef61604",
   "metadata": {},
   "source": [
    "##  Recurrent Neural Network"
   ]
  },
  {
   "cell_type": "code",
   "execution_count": 69,
   "id": "a2c6276a",
   "metadata": {},
   "outputs": [],
   "source": [
    "import tensorflow\n",
    "from keras.layers import Dense,Dropout,LSTM\n",
    "from keras.models import Sequential\n",
    "from keras.activations import softmax\n",
    "from keras.layers import Activation\n",
    "from tensorflow.keras.optimizers import Adam\n",
    "from tensorflow.keras.optimizers import RMSprop"
   ]
  },
  {
   "cell_type": "code",
   "execution_count": 70,
   "id": "0b6f7486",
   "metadata": {},
   "outputs": [
    {
     "name": "stdout",
     "output_type": "stream",
     "text": [
      "Epoch 1/300\n",
      "15/15 [==============================] - 2s 46ms/step - loss: 5.5977\n",
      "Epoch 2/300\n",
      "15/15 [==============================] - 1s 48ms/step - loss: 5.3947\n",
      "Epoch 3/300\n",
      "15/15 [==============================] - 1s 47ms/step - loss: 5.2551\n",
      "Epoch 4/300\n",
      "15/15 [==============================] - 1s 47ms/step - loss: 5.2251\n",
      "Epoch 5/300\n",
      "15/15 [==============================] - 1s 48ms/step - loss: 5.2098\n",
      "Epoch 6/300\n",
      "15/15 [==============================] - 1s 49ms/step - loss: 5.2004\n",
      "Epoch 7/300\n",
      "15/15 [==============================] - 1s 48ms/step - loss: 5.1989\n",
      "Epoch 8/300\n",
      "15/15 [==============================] - 1s 48ms/step - loss: 5.1921\n",
      "Epoch 9/300\n",
      "15/15 [==============================] - 1s 47ms/step - loss: 5.1919\n",
      "Epoch 10/300\n",
      "15/15 [==============================] - 1s 48ms/step - loss: 5.1908\n",
      "Epoch 11/300\n",
      "15/15 [==============================] - 1s 48ms/step - loss: 5.1888\n",
      "Epoch 12/300\n",
      "15/15 [==============================] - 1s 48ms/step - loss: 5.1849\n",
      "Epoch 13/300\n",
      "15/15 [==============================] - 1s 48ms/step - loss: 5.1831\n",
      "Epoch 14/300\n",
      "15/15 [==============================] - 1s 46ms/step - loss: 5.1848\n",
      "Epoch 15/300\n",
      "15/15 [==============================] - 1s 46ms/step - loss: 5.1820\n",
      "Epoch 16/300\n",
      "15/15 [==============================] - 1s 46ms/step - loss: 5.1787\n",
      "Epoch 17/300\n",
      "15/15 [==============================] - 1s 48ms/step - loss: 5.1803\n",
      "Epoch 18/300\n",
      "15/15 [==============================] - 1s 43ms/step - loss: 5.1784\n",
      "Epoch 19/300\n",
      "15/15 [==============================] - 1s 45ms/step - loss: 5.1798\n",
      "Epoch 20/300\n",
      "15/15 [==============================] - 1s 48ms/step - loss: 5.1777\n",
      "Epoch 21/300\n",
      "15/15 [==============================] - 1s 45ms/step - loss: 5.1758\n",
      "Epoch 22/300\n",
      "15/15 [==============================] - 1s 46ms/step - loss: 5.1753\n",
      "Epoch 23/300\n",
      "15/15 [==============================] - 1s 45ms/step - loss: 5.1733\n",
      "Epoch 24/300\n",
      "15/15 [==============================] - 1s 45ms/step - loss: 5.1727\n",
      "Epoch 25/300\n",
      "15/15 [==============================] - 1s 46ms/step - loss: 5.1728\n",
      "Epoch 26/300\n",
      "15/15 [==============================] - 1s 45ms/step - loss: 5.1728\n",
      "Epoch 27/300\n",
      "15/15 [==============================] - 1s 44ms/step - loss: 5.1706\n",
      "Epoch 28/300\n",
      "15/15 [==============================] - 1s 45ms/step - loss: 5.1729\n",
      "Epoch 29/300\n",
      "15/15 [==============================] - 1s 46ms/step - loss: 5.1679\n",
      "Epoch 30/300\n",
      "15/15 [==============================] - 1s 47ms/step - loss: 5.1708\n",
      "Epoch 31/300\n",
      "15/15 [==============================] - 1s 46ms/step - loss: 5.1689\n",
      "Epoch 32/300\n",
      "15/15 [==============================] - 1s 46ms/step - loss: 5.1669\n",
      "Epoch 33/300\n",
      "15/15 [==============================] - 1s 47ms/step - loss: 5.1693\n",
      "Epoch 34/300\n",
      "15/15 [==============================] - 1s 47ms/step - loss: 5.1673\n",
      "Epoch 35/300\n",
      "15/15 [==============================] - 1s 59ms/step - loss: 5.1653\n",
      "Epoch 36/300\n",
      "15/15 [==============================] - 1s 46ms/step - loss: 5.1680\n",
      "Epoch 37/300\n",
      "15/15 [==============================] - 1s 46ms/step - loss: 5.1662\n",
      "Epoch 38/300\n",
      "15/15 [==============================] - 1s 47ms/step - loss: 5.1664\n",
      "Epoch 39/300\n",
      "15/15 [==============================] - 1s 42ms/step - loss: 5.1646\n",
      "Epoch 40/300\n",
      "15/15 [==============================] - 1s 46ms/step - loss: 5.1666\n",
      "Epoch 41/300\n",
      "15/15 [==============================] - 1s 47ms/step - loss: 5.1640\n",
      "Epoch 42/300\n",
      "15/15 [==============================] - 1s 47ms/step - loss: 5.1643\n",
      "Epoch 43/300\n",
      "15/15 [==============================] - 1s 48ms/step - loss: 5.1632\n",
      "Epoch 44/300\n",
      "15/15 [==============================] - 1s 46ms/step - loss: 5.1635\n",
      "Epoch 45/300\n",
      "15/15 [==============================] - 1s 45ms/step - loss: 5.1626\n",
      "Epoch 46/300\n",
      "15/15 [==============================] - 1s 46ms/step - loss: 5.1618\n",
      "Epoch 47/300\n",
      "15/15 [==============================] - 1s 47ms/step - loss: 5.1608\n",
      "Epoch 48/300\n",
      "15/15 [==============================] - 1s 44ms/step - loss: 5.1612\n",
      "Epoch 49/300\n",
      "15/15 [==============================] - 1s 47ms/step - loss: 5.1618\n",
      "Epoch 50/300\n",
      "15/15 [==============================] - 1s 46ms/step - loss: 5.1610\n",
      "Epoch 51/300\n",
      "15/15 [==============================] - 1s 46ms/step - loss: 5.1594\n",
      "Epoch 52/300\n",
      "15/15 [==============================] - 1s 47ms/step - loss: 5.1594\n",
      "Epoch 53/300\n",
      "15/15 [==============================] - 1s 45ms/step - loss: 5.1607\n",
      "Epoch 54/300\n",
      "15/15 [==============================] - 1s 46ms/step - loss: 5.1581\n",
      "Epoch 55/300\n",
      "15/15 [==============================] - 1s 41ms/step - loss: 5.1547\n",
      "Epoch 56/300\n",
      "15/15 [==============================] - 1s 43ms/step - loss: 5.1610\n",
      "Epoch 57/300\n",
      "15/15 [==============================] - 1s 44ms/step - loss: 5.1576\n",
      "Epoch 58/300\n",
      "15/15 [==============================] - 1s 44ms/step - loss: 5.1597\n",
      "Epoch 59/300\n",
      "15/15 [==============================] - 1s 44ms/step - loss: 5.1560\n",
      "Epoch 60/300\n",
      "15/15 [==============================] - 1s 44ms/step - loss: 5.1588\n",
      "Epoch 61/300\n",
      "15/15 [==============================] - 1s 45ms/step - loss: 5.1555\n",
      "Epoch 62/300\n",
      "15/15 [==============================] - 1s 46ms/step - loss: 5.1556\n",
      "Epoch 63/300\n",
      "15/15 [==============================] - 1s 47ms/step - loss: 5.1554\n",
      "Epoch 64/300\n",
      "15/15 [==============================] - 1s 46ms/step - loss: 5.1523\n",
      "Epoch 65/300\n",
      "15/15 [==============================] - 1s 46ms/step - loss: 5.1527\n",
      "Epoch 66/300\n",
      "15/15 [==============================] - 1s 47ms/step - loss: 5.1527\n",
      "Epoch 67/300\n",
      "15/15 [==============================] - 1s 46ms/step - loss: 5.1503\n",
      "Epoch 68/300\n",
      "15/15 [==============================] - 1s 46ms/step - loss: 5.1470\n",
      "Epoch 69/300\n",
      "15/15 [==============================] - 1s 46ms/step - loss: 5.1473\n",
      "Epoch 70/300\n",
      "15/15 [==============================] - 1s 46ms/step - loss: 5.1514\n",
      "Epoch 71/300\n",
      "15/15 [==============================] - 1s 47ms/step - loss: 5.1478\n",
      "Epoch 72/300\n",
      "15/15 [==============================] - 1s 47ms/step - loss: 5.1460\n",
      "Epoch 73/300\n",
      "15/15 [==============================] - 1s 47ms/step - loss: 5.1433\n",
      "Epoch 74/300\n",
      "15/15 [==============================] - 1s 46ms/step - loss: 5.1395\n",
      "Epoch 75/300\n",
      "15/15 [==============================] - 1s 45ms/step - loss: 5.1363\n",
      "Epoch 76/300\n",
      "15/15 [==============================] - 1s 46ms/step - loss: 5.1328\n",
      "Epoch 77/300\n",
      "15/15 [==============================] - 1s 43ms/step - loss: 5.1297\n",
      "Epoch 78/300\n",
      "15/15 [==============================] - 1s 41ms/step - loss: 5.2027\n",
      "Epoch 79/300\n",
      "15/15 [==============================] - 1s 40ms/step - loss: 5.1484\n",
      "Epoch 80/300\n",
      "15/15 [==============================] - 1s 42ms/step - loss: 5.1175\n",
      "Epoch 81/300\n",
      "15/15 [==============================] - 1s 42ms/step - loss: 5.1070\n",
      "Epoch 82/300\n",
      "15/15 [==============================] - 1s 42ms/step - loss: 5.1115\n",
      "Epoch 83/300\n",
      "15/15 [==============================] - 1s 43ms/step - loss: 5.0984\n",
      "Epoch 84/300\n",
      "15/15 [==============================] - 1s 44ms/step - loss: 5.0941\n",
      "Epoch 85/300\n",
      "15/15 [==============================] - 1s 40ms/step - loss: 5.0853\n",
      "Epoch 86/300\n",
      "15/15 [==============================] - 1s 40ms/step - loss: 5.0838\n",
      "Epoch 87/300\n",
      "15/15 [==============================] - 1s 39ms/step - loss: 5.0658\n",
      "Epoch 88/300\n",
      "15/15 [==============================] - 1s 40ms/step - loss: 5.0616\n",
      "Epoch 89/300\n",
      "15/15 [==============================] - 1s 38ms/step - loss: 5.0710\n",
      "Epoch 90/300\n",
      "15/15 [==============================] - 1s 39ms/step - loss: 5.0234\n",
      "Epoch 91/300\n",
      "15/15 [==============================] - 1s 42ms/step - loss: 5.0396\n",
      "Epoch 92/300\n",
      "15/15 [==============================] - 1s 40ms/step - loss: 4.9929\n",
      "Epoch 93/300\n",
      "15/15 [==============================] - 1s 43ms/step - loss: 4.9908\n",
      "Epoch 94/300\n",
      "15/15 [==============================] - 1s 42ms/step - loss: 4.9596\n",
      "Epoch 95/300\n",
      "15/15 [==============================] - 1s 44ms/step - loss: 4.9430\n",
      "Epoch 96/300\n",
      "15/15 [==============================] - 1s 43ms/step - loss: 4.9120\n",
      "Epoch 97/300\n",
      "15/15 [==============================] - 1s 41ms/step - loss: 4.9005\n",
      "Epoch 98/300\n",
      "15/15 [==============================] - 1s 40ms/step - loss: 4.9034\n",
      "Epoch 99/300\n",
      "15/15 [==============================] - 1s 40ms/step - loss: 4.8613\n",
      "Epoch 100/300\n",
      "15/15 [==============================] - 1s 45ms/step - loss: 4.8282\n",
      "Epoch 101/300\n",
      "15/15 [==============================] - 1s 39ms/step - loss: 4.8190\n",
      "Epoch 102/300\n",
      "15/15 [==============================] - 1s 44ms/step - loss: 4.9246\n",
      "Epoch 103/300\n",
      "15/15 [==============================] - 1s 40ms/step - loss: 5.2291\n",
      "Epoch 104/300\n",
      "15/15 [==============================] - 1s 41ms/step - loss: 4.7896\n",
      "Epoch 105/300\n",
      "15/15 [==============================] - 1s 41ms/step - loss: 4.7836\n",
      "Epoch 106/300\n",
      "15/15 [==============================] - 1s 41ms/step - loss: 4.7372\n",
      "Epoch 107/300\n",
      "15/15 [==============================] - 1s 43ms/step - loss: 4.7080\n",
      "Epoch 108/300\n",
      "15/15 [==============================] - 1s 41ms/step - loss: 4.7030\n",
      "Epoch 109/300\n",
      "15/15 [==============================] - 1s 43ms/step - loss: 4.7889\n",
      "Epoch 110/300\n",
      "15/15 [==============================] - 1s 42ms/step - loss: 5.1137\n",
      "Epoch 111/300\n",
      "15/15 [==============================] - 1s 39ms/step - loss: 4.6879\n",
      "Epoch 112/300\n",
      "15/15 [==============================] - 1s 40ms/step - loss: 4.6492\n",
      "Epoch 113/300\n",
      "15/15 [==============================] - 1s 39ms/step - loss: 4.6282\n",
      "Epoch 114/300\n",
      "15/15 [==============================] - 1s 39ms/step - loss: 5.3438\n",
      "Epoch 115/300\n",
      "15/15 [==============================] - 1s 40ms/step - loss: 5.2206\n",
      "Epoch 116/300\n",
      "15/15 [==============================] - 1s 40ms/step - loss: 5.0420\n",
      "Epoch 117/300\n",
      "15/15 [==============================] - 1s 41ms/step - loss: 5.1184\n",
      "Epoch 118/300\n",
      "15/15 [==============================] - 1s 41ms/step - loss: 4.7027\n",
      "Epoch 119/300\n",
      "15/15 [==============================] - 1s 39ms/step - loss: 5.3733\n",
      "Epoch 120/300\n",
      "15/15 [==============================] - 1s 39ms/step - loss: 5.4671\n",
      "Epoch 121/300\n",
      "15/15 [==============================] - 1s 39ms/step - loss: 5.3460\n",
      "Epoch 122/300\n",
      "15/15 [==============================] - 1s 39ms/step - loss: 5.2629\n",
      "Epoch 123/300\n",
      "15/15 [==============================] - 1s 40ms/step - loss: 5.2208\n",
      "Epoch 124/300\n",
      "15/15 [==============================] - 1s 40ms/step - loss: 5.2110\n",
      "Epoch 125/300\n",
      "15/15 [==============================] - 1s 39ms/step - loss: 5.2233\n",
      "Epoch 126/300\n",
      "15/15 [==============================] - 1s 40ms/step - loss: 5.1744\n",
      "Epoch 127/300\n",
      "15/15 [==============================] - 1s 39ms/step - loss: 5.1417\n",
      "Epoch 128/300\n",
      "15/15 [==============================] - 1s 39ms/step - loss: 5.1188\n",
      "Epoch 129/300\n",
      "15/15 [==============================] - 1s 42ms/step - loss: 5.1730\n",
      "Epoch 130/300\n",
      "15/15 [==============================] - 1s 40ms/step - loss: 5.3079\n",
      "Epoch 131/300\n",
      "15/15 [==============================] - 1s 40ms/step - loss: 5.2356\n",
      "Epoch 132/300\n",
      "15/15 [==============================] - 1s 42ms/step - loss: 5.2090\n",
      "Epoch 133/300\n",
      "15/15 [==============================] - 1s 41ms/step - loss: 5.2013\n",
      "Epoch 134/300\n",
      "15/15 [==============================] - 1s 39ms/step - loss: 5.1909\n",
      "Epoch 135/300\n",
      "15/15 [==============================] - 1s 39ms/step - loss: 5.1688\n",
      "Epoch 136/300\n",
      "15/15 [==============================] - 1s 40ms/step - loss: 5.1358\n",
      "Epoch 137/300\n",
      "15/15 [==============================] - 1s 40ms/step - loss: 5.1182\n",
      "Epoch 138/300\n",
      "15/15 [==============================] - 1s 39ms/step - loss: 5.2189\n",
      "Epoch 139/300\n",
      "15/15 [==============================] - 1s 40ms/step - loss: 5.1478\n",
      "Epoch 140/300\n",
      "15/15 [==============================] - 1s 39ms/step - loss: 5.1070\n",
      "Epoch 141/300\n",
      "15/15 [==============================] - 1s 40ms/step - loss: 5.1537\n",
      "Epoch 142/300\n",
      "15/15 [==============================] - 1s 40ms/step - loss: 5.1303\n",
      "Epoch 143/300\n",
      "15/15 [==============================] - 1s 39ms/step - loss: 5.1405\n",
      "Epoch 144/300\n",
      "15/15 [==============================] - 1s 39ms/step - loss: 5.2120\n",
      "Epoch 145/300\n",
      "15/15 [==============================] - 1s 43ms/step - loss: 5.2756\n",
      "Epoch 146/300\n",
      "15/15 [==============================] - 1s 41ms/step - loss: 5.2097\n",
      "Epoch 147/300\n",
      "15/15 [==============================] - 1s 43ms/step - loss: 5.1828\n",
      "Epoch 148/300\n",
      "15/15 [==============================] - 1s 43ms/step - loss: 5.1725\n",
      "Epoch 149/300\n",
      "15/15 [==============================] - 1s 40ms/step - loss: 5.1553\n",
      "Epoch 150/300\n",
      "15/15 [==============================] - 1s 38ms/step - loss: 5.1335\n",
      "Epoch 151/300\n",
      "15/15 [==============================] - 1s 40ms/step - loss: 5.1291\n",
      "Epoch 152/300\n",
      "15/15 [==============================] - 1s 43ms/step - loss: 5.1104\n",
      "Epoch 153/300\n",
      "15/15 [==============================] - 1s 40ms/step - loss: 5.1691\n",
      "Epoch 154/300\n",
      "15/15 [==============================] - 1s 40ms/step - loss: 5.0691\n",
      "Epoch 155/300\n",
      "15/15 [==============================] - 1s 39ms/step - loss: 5.0419\n",
      "Epoch 156/300\n",
      "15/15 [==============================] - 1s 39ms/step - loss: 4.9889\n",
      "Epoch 157/300\n",
      "15/15 [==============================] - 1s 41ms/step - loss: 5.1046\n",
      "Epoch 158/300\n",
      "15/15 [==============================] - 1s 41ms/step - loss: 5.1155\n",
      "Epoch 159/300\n",
      "15/15 [==============================] - 1s 39ms/step - loss: 4.9632\n",
      "Epoch 160/300\n",
      "15/15 [==============================] - 1s 39ms/step - loss: 4.8792\n",
      "Epoch 161/300\n",
      "15/15 [==============================] - 1s 40ms/step - loss: 4.8719\n",
      "Epoch 162/300\n",
      "15/15 [==============================] - 1s 39ms/step - loss: 4.7999\n",
      "Epoch 163/300\n",
      "15/15 [==============================] - 1s 40ms/step - loss: 4.7477\n",
      "Epoch 164/300\n",
      "15/15 [==============================] - 1s 39ms/step - loss: 4.7413\n",
      "Epoch 165/300\n",
      "15/15 [==============================] - 1s 39ms/step - loss: 4.6716\n",
      "Epoch 166/300\n",
      "15/15 [==============================] - 1s 39ms/step - loss: 4.6488\n",
      "Epoch 167/300\n",
      "15/15 [==============================] - 1s 40ms/step - loss: 4.6158\n",
      "Epoch 168/300\n",
      "15/15 [==============================] - 1s 39ms/step - loss: 4.5771\n",
      "Epoch 169/300\n",
      "15/15 [==============================] - 1s 39ms/step - loss: 4.5772\n",
      "Epoch 170/300\n",
      "15/15 [==============================] - 1s 39ms/step - loss: 4.5418\n",
      "Epoch 171/300\n",
      "15/15 [==============================] - 1s 39ms/step - loss: 4.4918\n",
      "Epoch 172/300\n",
      "15/15 [==============================] - 1s 39ms/step - loss: 4.4718\n",
      "Epoch 173/300\n",
      "15/15 [==============================] - 1s 39ms/step - loss: 4.4459\n",
      "Epoch 174/300\n",
      "15/15 [==============================] - 1s 39ms/step - loss: 4.6453\n",
      "Epoch 175/300\n",
      "15/15 [==============================] - 1s 39ms/step - loss: 4.9498\n",
      "Epoch 176/300\n",
      "15/15 [==============================] - 1s 39ms/step - loss: 5.1573\n",
      "Epoch 177/300\n",
      "15/15 [==============================] - 1s 40ms/step - loss: 4.8716\n",
      "Epoch 178/300\n",
      "15/15 [==============================] - 1s 41ms/step - loss: 4.6747\n",
      "Epoch 179/300\n",
      "15/15 [==============================] - 1s 40ms/step - loss: 4.5776\n",
      "Epoch 180/300\n",
      "15/15 [==============================] - 1s 42ms/step - loss: 4.7986\n",
      "Epoch 181/300\n",
      "15/15 [==============================] - 1s 43ms/step - loss: 4.9602\n",
      "Epoch 182/300\n",
      "15/15 [==============================] - 1s 42ms/step - loss: 4.8846\n",
      "Epoch 183/300\n",
      "15/15 [==============================] - 1s 43ms/step - loss: 4.8784\n",
      "Epoch 184/300\n",
      "15/15 [==============================] - 1s 38ms/step - loss: 4.9096\n",
      "Epoch 185/300\n",
      "15/15 [==============================] - 1s 38ms/step - loss: 4.7546\n",
      "Epoch 186/300\n",
      "15/15 [==============================] - 1s 38ms/step - loss: 4.6999\n",
      "Epoch 187/300\n",
      "15/15 [==============================] - 1s 38ms/step - loss: 4.6451\n",
      "Epoch 188/300\n",
      "15/15 [==============================] - 1s 38ms/step - loss: 4.5847\n",
      "Epoch 189/300\n",
      "15/15 [==============================] - 1s 38ms/step - loss: 4.5501\n",
      "Epoch 190/300\n",
      "15/15 [==============================] - 1s 37ms/step - loss: 4.6869\n",
      "Epoch 191/300\n",
      "15/15 [==============================] - 1s 74ms/step - loss: 4.8146\n",
      "Epoch 192/300\n",
      "15/15 [==============================] - 1s 75ms/step - loss: 4.7612\n",
      "Epoch 193/300\n",
      "15/15 [==============================] - 1s 74ms/step - loss: 4.6801\n",
      "Epoch 194/300\n",
      "15/15 [==============================] - 1s 77ms/step - loss: 4.8255\n",
      "Epoch 195/300\n",
      "15/15 [==============================] - 1s 75ms/step - loss: 4.7979\n",
      "Epoch 196/300\n",
      "15/15 [==============================] - 1s 76ms/step - loss: 4.6860\n",
      "Epoch 197/300\n",
      "15/15 [==============================] - 1s 76ms/step - loss: 4.5323\n",
      "Epoch 198/300\n",
      "15/15 [==============================] - 1s 76ms/step - loss: 4.4507\n",
      "Epoch 199/300\n",
      "15/15 [==============================] - 1s 75ms/step - loss: 4.4078\n",
      "Epoch 200/300\n",
      "15/15 [==============================] - 1s 76ms/step - loss: 4.3698\n",
      "Epoch 201/300\n",
      "15/15 [==============================] - 1s 75ms/step - loss: 4.3399\n",
      "Epoch 202/300\n",
      "15/15 [==============================] - 1s 75ms/step - loss: 4.3460\n",
      "Epoch 203/300\n",
      "15/15 [==============================] - 1s 75ms/step - loss: 4.2917\n",
      "Epoch 204/300\n",
      "15/15 [==============================] - 1s 76ms/step - loss: 4.2581\n",
      "Epoch 205/300\n",
      "15/15 [==============================] - 1s 75ms/step - loss: 4.2707\n",
      "Epoch 206/300\n",
      "15/15 [==============================] - 1s 74ms/step - loss: 4.1985\n",
      "Epoch 207/300\n",
      "15/15 [==============================] - 1s 74ms/step - loss: 4.2033\n",
      "Epoch 208/300\n",
      "15/15 [==============================] - 1s 74ms/step - loss: 4.1517\n",
      "Epoch 209/300\n",
      "15/15 [==============================] - 1s 76ms/step - loss: 4.1235\n",
      "Epoch 210/300\n",
      "15/15 [==============================] - 1s 74ms/step - loss: 4.1565\n",
      "Epoch 211/300\n",
      "15/15 [==============================] - 1s 77ms/step - loss: 4.4738\n",
      "Epoch 212/300\n",
      "15/15 [==============================] - 1s 76ms/step - loss: 4.3197\n",
      "Epoch 213/300\n",
      "15/15 [==============================] - 1s 75ms/step - loss: 4.2302\n",
      "Epoch 214/300\n",
      "15/15 [==============================] - 1s 76ms/step - loss: 4.1933\n",
      "Epoch 215/300\n",
      "15/15 [==============================] - 1s 61ms/step - loss: 4.1672\n",
      "Epoch 216/300\n",
      "15/15 [==============================] - 1s 40ms/step - loss: 4.1249\n",
      "Epoch 217/300\n",
      "15/15 [==============================] - 1s 39ms/step - loss: 4.1485\n",
      "Epoch 218/300\n",
      "15/15 [==============================] - 1s 39ms/step - loss: 4.5897\n",
      "Epoch 219/300\n",
      "15/15 [==============================] - 1s 39ms/step - loss: 4.7904\n",
      "Epoch 220/300\n",
      "15/15 [==============================] - 1s 39ms/step - loss: 4.6352\n",
      "Epoch 221/300\n",
      "15/15 [==============================] - 1s 47ms/step - loss: 4.5373\n",
      "Epoch 222/300\n",
      "15/15 [==============================] - 1s 43ms/step - loss: 4.5129\n",
      "Epoch 223/300\n",
      "15/15 [==============================] - 1s 44ms/step - loss: 4.2802\n",
      "Epoch 224/300\n",
      "15/15 [==============================] - 1s 41ms/step - loss: 4.1343\n",
      "Epoch 225/300\n",
      "15/15 [==============================] - 1s 41ms/step - loss: 4.0838\n",
      "Epoch 226/300\n",
      "15/15 [==============================] - 1s 38ms/step - loss: 4.0540\n",
      "Epoch 227/300\n",
      "15/15 [==============================] - 1s 39ms/step - loss: 4.0101\n",
      "Epoch 228/300\n",
      "15/15 [==============================] - 1s 40ms/step - loss: 4.1282\n",
      "Epoch 229/300\n",
      "15/15 [==============================] - 1s 39ms/step - loss: 4.6203\n",
      "Epoch 230/300\n",
      "15/15 [==============================] - 1s 39ms/step - loss: 5.1185\n",
      "Epoch 231/300\n",
      "15/15 [==============================] - 1s 39ms/step - loss: 5.1261\n",
      "Epoch 232/300\n",
      "15/15 [==============================] - 1s 39ms/step - loss: 4.8654\n",
      "Epoch 233/300\n",
      "15/15 [==============================] - 1s 39ms/step - loss: 5.1196\n",
      "Epoch 234/300\n",
      "15/15 [==============================] - 1s 42ms/step - loss: 4.9773\n",
      "Epoch 235/300\n",
      "15/15 [==============================] - 1s 41ms/step - loss: 4.7396\n",
      "Epoch 236/300\n",
      "15/15 [==============================] - 1s 40ms/step - loss: 4.7515\n",
      "Epoch 237/300\n",
      "15/15 [==============================] - 1s 39ms/step - loss: 5.2458\n",
      "Epoch 238/300\n",
      "15/15 [==============================] - 1s 39ms/step - loss: 5.3219\n",
      "Epoch 239/300\n",
      "15/15 [==============================] - 1s 40ms/step - loss: 5.2366\n",
      "Epoch 240/300\n",
      "15/15 [==============================] - 1s 40ms/step - loss: 5.2199\n",
      "Epoch 241/300\n",
      "15/15 [==============================] - 1s 39ms/step - loss: 5.2045\n",
      "Epoch 242/300\n",
      "15/15 [==============================] - 1s 39ms/step - loss: 5.1347\n",
      "Epoch 243/300\n",
      "15/15 [==============================] - 1s 40ms/step - loss: 5.1095\n",
      "Epoch 244/300\n",
      "15/15 [==============================] - 1s 40ms/step - loss: 5.1549\n",
      "Epoch 245/300\n",
      "15/15 [==============================] - 1s 38ms/step - loss: 5.1451\n",
      "Epoch 246/300\n",
      "15/15 [==============================] - 1s 39ms/step - loss: 5.0520\n",
      "Epoch 247/300\n",
      "15/15 [==============================] - 1s 40ms/step - loss: 5.0758\n",
      "Epoch 248/300\n",
      "15/15 [==============================] - 1s 40ms/step - loss: 5.0889\n",
      "Epoch 249/300\n",
      "15/15 [==============================] - 1s 43ms/step - loss: 5.2775\n",
      "Epoch 250/300\n",
      "15/15 [==============================] - 1s 42ms/step - loss: 5.2004\n",
      "Epoch 251/300\n",
      "15/15 [==============================] - 1s 41ms/step - loss: 5.1617\n",
      "Epoch 252/300\n",
      "15/15 [==============================] - 1s 44ms/step - loss: 5.1247\n",
      "Epoch 253/300\n",
      "15/15 [==============================] - 1s 41ms/step - loss: 5.0513\n",
      "Epoch 254/300\n",
      "15/15 [==============================] - 1s 43ms/step - loss: 4.9644\n",
      "Epoch 255/300\n",
      "15/15 [==============================] - 1s 39ms/step - loss: 4.9687\n",
      "Epoch 256/300\n",
      "15/15 [==============================] - 1s 42ms/step - loss: 4.7838\n",
      "Epoch 257/300\n",
      "15/15 [==============================] - 1s 41ms/step - loss: 4.6481\n",
      "Epoch 258/300\n",
      "15/15 [==============================] - 1s 40ms/step - loss: 4.6465\n",
      "Epoch 259/300\n",
      "15/15 [==============================] - 1s 46ms/step - loss: 4.5140\n",
      "Epoch 260/300\n",
      "15/15 [==============================] - 1s 51ms/step - loss: 4.4638\n",
      "Epoch 261/300\n",
      "15/15 [==============================] - 1s 42ms/step - loss: 4.3201\n",
      "Epoch 262/300\n",
      "15/15 [==============================] - 1s 50ms/step - loss: 4.3727\n",
      "Epoch 263/300\n",
      "15/15 [==============================] - 1s 43ms/step - loss: 4.2536\n",
      "Epoch 264/300\n",
      "15/15 [==============================] - 1s 46ms/step - loss: 4.1337\n",
      "Epoch 265/300\n",
      "15/15 [==============================] - 1s 39ms/step - loss: 4.1075\n",
      "Epoch 266/300\n",
      "15/15 [==============================] - 1s 40ms/step - loss: 4.0347\n",
      "Epoch 267/300\n",
      "15/15 [==============================] - 1s 41ms/step - loss: 3.9942\n",
      "Epoch 268/300\n",
      "15/15 [==============================] - 1s 40ms/step - loss: 3.9670\n",
      "Epoch 269/300\n",
      "15/15 [==============================] - 1s 42ms/step - loss: 3.9295\n",
      "Epoch 270/300\n",
      "15/15 [==============================] - 1s 40ms/step - loss: 3.8965\n",
      "Epoch 271/300\n",
      "15/15 [==============================] - 1s 40ms/step - loss: 3.9198\n",
      "Epoch 272/300\n",
      "15/15 [==============================] - 1s 46ms/step - loss: 3.9043\n",
      "Epoch 273/300\n",
      "15/15 [==============================] - 1s 41ms/step - loss: 3.8156\n",
      "Epoch 274/300\n",
      "15/15 [==============================] - 1s 44ms/step - loss: 3.7881\n",
      "Epoch 275/300\n",
      "15/15 [==============================] - 1s 40ms/step - loss: 3.8268\n",
      "Epoch 276/300\n",
      "15/15 [==============================] - 1s 40ms/step - loss: 5.3726\n",
      "Epoch 277/300\n",
      "15/15 [==============================] - 1s 39ms/step - loss: 5.4129\n",
      "Epoch 278/300\n",
      "15/15 [==============================] - 1s 40ms/step - loss: 5.2595\n",
      "Epoch 279/300\n",
      "15/15 [==============================] - 1s 39ms/step - loss: 5.1345\n",
      "Epoch 280/300\n",
      "15/15 [==============================] - 1s 40ms/step - loss: 4.9228\n",
      "Epoch 281/300\n",
      "15/15 [==============================] - 1s 40ms/step - loss: 4.7431\n",
      "Epoch 282/300\n",
      "15/15 [==============================] - 1s 40ms/step - loss: 4.6745\n",
      "Epoch 283/300\n",
      "15/15 [==============================] - 1s 42ms/step - loss: 4.6249\n",
      "Epoch 284/300\n",
      "15/15 [==============================] - 1s 41ms/step - loss: 4.6168\n",
      "Epoch 285/300\n",
      "15/15 [==============================] - 1s 46ms/step - loss: 4.5431\n",
      "Epoch 286/300\n",
      "15/15 [==============================] - 1s 43ms/step - loss: 4.4050\n",
      "Epoch 287/300\n",
      "15/15 [==============================] - 1s 40ms/step - loss: 4.4446\n",
      "Epoch 288/300\n",
      "15/15 [==============================] - 1s 40ms/step - loss: 4.4198\n",
      "Epoch 289/300\n",
      "15/15 [==============================] - 1s 42ms/step - loss: 5.1110\n",
      "Epoch 290/300\n",
      "15/15 [==============================] - 1s 44ms/step - loss: 4.8395\n",
      "Epoch 291/300\n",
      "15/15 [==============================] - 1s 43ms/step - loss: 4.5843\n",
      "Epoch 292/300\n",
      "15/15 [==============================] - 1s 42ms/step - loss: 4.4709\n",
      "Epoch 293/300\n",
      "15/15 [==============================] - 1s 44ms/step - loss: 4.3635\n",
      "Epoch 294/300\n",
      "15/15 [==============================] - 1s 42ms/step - loss: 4.3377\n",
      "Epoch 295/300\n",
      "15/15 [==============================] - 1s 40ms/step - loss: 4.2602\n",
      "Epoch 296/300\n",
      "15/15 [==============================] - 1s 47ms/step - loss: 4.2245\n",
      "Epoch 297/300\n",
      "15/15 [==============================] - 1s 43ms/step - loss: 4.2082\n",
      "Epoch 298/300\n",
      "15/15 [==============================] - 1s 43ms/step - loss: 4.4290\n",
      "Epoch 299/300\n",
      "15/15 [==============================] - 1s 40ms/step - loss: 5.5599\n",
      "Epoch 300/300\n",
      "15/15 [==============================] - 1s 40ms/step - loss: 4.8714\n"
     ]
    }
   ],
   "source": [
    "nn=Sequential()\n",
    "opt=RMSprop(learning_rate=0.002)\n",
    "nn.add(LSTM(50,input_shape=SHAPE))\n",
    "nn.add(Dense(hidden_neurons))\n",
    "nn.add(Activation('softmax'))\n",
    "nn.compile(optimizer=opt,loss='categorical_crossentropy')\n",
    "model=nn.fit(xtr_arr,ytr_arr,epochs=300)"
   ]
  },
  {
   "cell_type": "markdown",
   "id": "a4168e2f",
   "metadata": {},
   "source": [
    "## Preparing data for output"
   ]
  },
  {
   "cell_type": "code",
   "execution_count": 74,
   "id": "7988cf66",
   "metadata": {},
   "outputs": [
    {
     "data": {
      "text/plain": [
       "'ALOVER'"
      ]
     },
     "execution_count": 74,
     "metadata": {},
     "output_type": "execute_result"
    }
   ],
   "source": [
    "user_input=input('Enter Sentence (4 words)')\n",
    "user_input.upper()"
   ]
  },
  {
   "cell_type": "code",
   "execution_count": 75,
   "id": "856c9f27",
   "metadata": {},
   "outputs": [],
   "source": [
    "inp_array=zeros((1,uniques,4))"
   ]
  },
  {
   "cell_type": "code",
   "execution_count": 76,
   "id": "fb857359",
   "metadata": {},
   "outputs": [],
   "source": [
    "for word_no,word in enumerate(user_input.split(' ')):\n",
    "    inp_array[0,position_finder[word],word_no]"
   ]
  },
  {
   "cell_type": "code",
   "execution_count": 77,
   "id": "fb064e8c",
   "metadata": {},
   "outputs": [
    {
     "name": "stdout",
     "output_type": "stream",
     "text": [
      "1/1 [==============================] - 0s 302ms/step\n"
     ]
    },
    {
     "data": {
      "text/html": [
       "<div>\n",
       "<style scoped>\n",
       "    .dataframe tbody tr th:only-of-type {\n",
       "        vertical-align: middle;\n",
       "    }\n",
       "\n",
       "    .dataframe tbody tr th {\n",
       "        vertical-align: top;\n",
       "    }\n",
       "\n",
       "    .dataframe thead th {\n",
       "        text-align: right;\n",
       "    }\n",
       "</style>\n",
       "<table border=\"1\" class=\"dataframe\">\n",
       "  <thead>\n",
       "    <tr style=\"text-align: right;\">\n",
       "      <th></th>\n",
       "      <th>Word</th>\n",
       "      <th>prob</th>\n",
       "    </tr>\n",
       "  </thead>\n",
       "  <tbody>\n",
       "    <tr>\n",
       "      <th>0</th>\n",
       "      <td>1661FIRST</td>\n",
       "      <td>0.005200</td>\n",
       "    </tr>\n",
       "    <tr>\n",
       "      <th>1</th>\n",
       "      <td>18</td>\n",
       "      <td>0.006317</td>\n",
       "    </tr>\n",
       "    <tr>\n",
       "      <th>2</th>\n",
       "      <td>2002LANGUAGE</td>\n",
       "      <td>0.000579</td>\n",
       "    </tr>\n",
       "    <tr>\n",
       "      <th>3</th>\n",
       "      <td>2011</td>\n",
       "      <td>0.004727</td>\n",
       "    </tr>\n",
       "    <tr>\n",
       "      <th>4</th>\n",
       "      <td>29</td>\n",
       "      <td>0.000488</td>\n",
       "    </tr>\n",
       "    <tr>\n",
       "      <th>5</th>\n",
       "      <td>A</td>\n",
       "      <td>0.034994</td>\n",
       "    </tr>\n",
       "    <tr>\n",
       "      <th>6</th>\n",
       "      <td>ABHORRENT</td>\n",
       "      <td>0.000573</td>\n",
       "    </tr>\n",
       "    <tr>\n",
       "      <th>7</th>\n",
       "      <td>ACTIONS</td>\n",
       "      <td>0.002249</td>\n",
       "    </tr>\n",
       "    <tr>\n",
       "      <th>8</th>\n",
       "      <td>ADLER</td>\n",
       "      <td>0.006241</td>\n",
       "    </tr>\n",
       "    <tr>\n",
       "      <th>9</th>\n",
       "      <td>ADMIRABLE</td>\n",
       "      <td>0.000353</td>\n",
       "    </tr>\n",
       "    <tr>\n",
       "      <th>10</th>\n",
       "      <td>ADMIT</td>\n",
       "      <td>0.000835</td>\n",
       "    </tr>\n",
       "    <tr>\n",
       "      <th>11</th>\n",
       "      <td>ADVENTURE</td>\n",
       "      <td>0.012961</td>\n",
       "    </tr>\n",
       "    <tr>\n",
       "      <th>12</th>\n",
       "      <td>ADVENTURES</td>\n",
       "      <td>0.010548</td>\n",
       "    </tr>\n",
       "    <tr>\n",
       "      <th>13</th>\n",
       "      <td>AKIN</td>\n",
       "      <td>0.004639</td>\n",
       "    </tr>\n",
       "    <tr>\n",
       "      <th>14</th>\n",
       "      <td>ALL</td>\n",
       "      <td>0.011766</td>\n",
       "    </tr>\n",
       "    <tr>\n",
       "      <th>15</th>\n",
       "      <td>ALOVER</td>\n",
       "      <td>0.000312</td>\n",
       "    </tr>\n",
       "    <tr>\n",
       "      <th>16</th>\n",
       "      <td>ALTERNATING</td>\n",
       "      <td>0.001292</td>\n",
       "    </tr>\n",
       "    <tr>\n",
       "      <th>17</th>\n",
       "      <td>ALWAYS</td>\n",
       "      <td>0.000703</td>\n",
       "    </tr>\n",
       "    <tr>\n",
       "      <th>18</th>\n",
       "      <td>AMBITION</td>\n",
       "      <td>0.005259</td>\n",
       "    </tr>\n",
       "    <tr>\n",
       "      <th>19</th>\n",
       "      <td>AMONG</td>\n",
       "      <td>0.000805</td>\n",
       "    </tr>\n",
       "  </tbody>\n",
       "</table>\n",
       "</div>"
      ],
      "text/plain": [
       "            Word      prob\n",
       "0      1661FIRST  0.005200\n",
       "1             18  0.006317\n",
       "2   2002LANGUAGE  0.000579\n",
       "3           2011  0.004727\n",
       "4             29  0.000488\n",
       "5              A  0.034994\n",
       "6      ABHORRENT  0.000573\n",
       "7        ACTIONS  0.002249\n",
       "8          ADLER  0.006241\n",
       "9      ADMIRABLE  0.000353\n",
       "10         ADMIT  0.000835\n",
       "11     ADVENTURE  0.012961\n",
       "12    ADVENTURES  0.010548\n",
       "13          AKIN  0.004639\n",
       "14           ALL  0.011766\n",
       "15        ALOVER  0.000312\n",
       "16   ALTERNATING  0.001292\n",
       "17        ALWAYS  0.000703\n",
       "18      AMBITION  0.005259\n",
       "19         AMONG  0.000805"
      ]
     },
     "execution_count": 77,
     "metadata": {},
     "output_type": "execute_result"
    }
   ],
   "source": [
    "import pandas as pd\n",
    "B=pd.DataFrame(zip(unique_words,list(nn.predict(inp_array)[0])),columns=['Word','prob'])\n",
    "B.head(20)"
   ]
  },
  {
   "cell_type": "code",
   "execution_count": 78,
   "id": "924d3943",
   "metadata": {},
   "outputs": [],
   "source": [
    "x=B.prob.max()\n",
    "Predicted_Word=B[B.prob == x].Word.values[0]"
   ]
  },
  {
   "cell_type": "code",
   "execution_count": 79,
   "id": "f49118b8",
   "metadata": {},
   "outputs": [
    {
     "name": "stdout",
     "output_type": "stream",
     "text": [
      "ALOVER THE\n"
     ]
    }
   ],
   "source": [
    "#Predicted word with sentence\n",
    "print(user_input,Predicted_Word)"
   ]
  },
  {
   "cell_type": "code",
   "execution_count": null,
   "id": "11e16cd7",
   "metadata": {},
   "outputs": [],
   "source": []
  }
 ],
 "metadata": {
  "kernelspec": {
   "display_name": "Python 3",
   "language": "python",
   "name": "python3"
  },
  "language_info": {
   "codemirror_mode": {
    "name": "ipython",
    "version": 3
   },
   "file_extension": ".py",
   "mimetype": "text/x-python",
   "name": "python",
   "nbconvert_exporter": "python",
   "pygments_lexer": "ipython3",
   "version": "3.11.5"
  }
 },
 "nbformat": 4,
 "nbformat_minor": 5
}
