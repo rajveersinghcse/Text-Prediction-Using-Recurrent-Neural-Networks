{
 "cells": [
  {
   "cell_type": "markdown",
   "id": "c4274585",
   "metadata": {},
   "source": [
    "# Project - Sentence Completion Using Recurrent Neural Networks and tensors:"
   ]
  },
  {
   "cell_type": "markdown",
   "id": "3e6db10b",
   "metadata": {},
   "source": [
    "### Opening file with file handling"
   ]
  },
  {
   "cell_type": "code",
   "execution_count": 711,
   "id": "760f0e37",
   "metadata": {},
   "outputs": [],
   "source": [
    "f=open('C:/Vaibhav Sir/sherlock.txt','r',encoding='utf-8')"
   ]
  },
  {
   "cell_type": "code",
   "execution_count": 712,
   "id": "25cf21a0",
   "metadata": {},
   "outputs": [],
   "source": [
    "data=f.read()"
   ]
  },
  {
   "cell_type": "code",
   "execution_count": 713,
   "id": "bf24bc36",
   "metadata": {},
   "outputs": [
    {
     "data": {
      "text/plain": [
       "\"\\nProject Gutenberg's The Adventures of Sherlock Holmes, by Arthur Conan Doyle\\n\\nThis eBook is for the use of anyone anywhere at no cost and with\\nalmost no restrictions whatsoever.  You may copy it, give it away or\\nre-use it under the terms of the Project Gutenberg License included\\nwith this eBook or online at www.gutenberg.net\\n\\n\\nTitle: The Adventures of Sherlock Holmes\\n\\nAuthor: Arthur Conan Doyle\\n\\nRelease Date: November 29, 2002 [EBook #1661]\\nLast Updated: May 20, 2019\\n\\nLanguage: English\\n\\nCharacter set encoding: UTF-8\\n\\n*** START OF THIS PROJECT GUTENBERG EBOOK THE ADVENTURES OF SHERLOCK HOLMES ***\\n\\n\\n\\nProduced by an anonymous Project Gutenberg volunteer and Jose Menendez\\n\\n\\n\\ncover\\n\\n\\n\\nThe Adventures of Sherlock Holmes\\n\\n\\n\\nby Arthur Conan Doyle\\n\\n\\n\\nContents\\n\\n\\n   I.     A Scandal in Bohemia\\n   II.    The Red-Headed League\\n   III.   A Case of Identity\\n   IV.    The Boscombe Valley Mystery\\n   V.     The Five Orange Pips\\n   VI.    The Man with the Twisted Lip\\n   VII.   The Adventure of the Blue Carbuncle\\n   VIII.  The Adventure of the Speckled Band\\n   IX.    The Adventure of the Engineer’s Thumb\\n   X.     The Adventure of the Noble Bachelor\\n   XI.    The Adventure of the Beryl Coronet\\n   XII.   The Adventure of the Copper Beeches\\n\\n\\n\\nI. A SCANDAL IN BOHEMIA\\n\\n\\nI.\\n\\nTo Sherlock Holmes she is always _the_ woman. I have seldom heard him\\nmention her under any other name. In his eyes she eclipses and\\npredominates the whole of her sex. It was not that he felt any emotion\\nakin to love for Irene Adler. All emotions, and that one particularly,\\nwere abhorrent to his cold, precise but admirably balanced mind. He\\nwas, I take it, the most perfect reasoning and observing machine that\\nthe world has seen, but as a lover he would have placed himself in a\\nfalse position. He never spoke of the softer passions, save with a gibe\\nand a sneer. They were admirable things for the observer—excellent for\\ndrawing the veil from men’s motives and actions. But for the trained\\nreasoner to admit such intrusions into his own delicate and finely\\nadjusted temperament was to introduce a distracting factor which might\\nthrow a doubt upon all his mental results. Grit in a sensitive\\ninstrument, or a crack in one of his own high-power lenses, would not\\nbe more disturbing than a strong emotion in a nature such as his. And\\nyet there was but one woman to him, and that woman was the late Irene\\nAdler, of dubious and questionable memory.\\n\\nI had seen little of Holmes lately. My marriage had drifted us away\\nfrom each other. My own complete happiness, and the home-centred\\ninterests which rise up around the man who first finds himself master\\nof his own establishment, were sufficient to absorb all my attention,\\nwhile Holmes, who loathed every form of society with his whole Bohemian\\nsoul, remained in our lodgings in Baker Street, buried among his old\\nbooks, and alternating from week to week between cocaine and ambition,\\nthe drowsiness of the drug, and the fierce energy of his own keen\\nnature. He was still, as eve\""
      ]
     },
     "execution_count": 713,
     "metadata": {},
     "output_type": "execute_result"
    }
   ],
   "source": [
    "data[0:3000]"
   ]
  },
  {
   "cell_type": "code",
   "execution_count": 714,
   "id": "dde6a670",
   "metadata": {},
   "outputs": [
    {
     "data": {
      "text/plain": [
       "581887"
      ]
     },
     "execution_count": 714,
     "metadata": {},
     "output_type": "execute_result"
    }
   ],
   "source": [
    "len(data)"
   ]
  },
  {
   "cell_type": "code",
   "execution_count": 715,
   "id": "ea4f632c",
   "metadata": {},
   "outputs": [],
   "source": [
    "data=data[0:3000]\n",
    "#Used Only 3000 words because 10-20000 data taking so much time"
   ]
  },
  {
   "cell_type": "markdown",
   "id": "b2610934",
   "metadata": {},
   "source": [
    "### Removing Special Characters"
   ]
  },
  {
   "cell_type": "code",
   "execution_count": 716,
   "id": "3848b6e1",
   "metadata": {},
   "outputs": [],
   "source": [
    "#removing special characters \n",
    "Q=[]\n",
    "import re\n",
    "for i in data.split(' '):\n",
    "    w=re.sub('[^a-zA-Z0-9 ]','',i)\n",
    "    w=w.upper()\n",
    "    if w != '':\n",
    "        Q.append(w)\n",
    "#i am not doing stemming and lemmatization because i want data in real words"
   ]
  },
  {
   "cell_type": "markdown",
   "id": "33659a38",
   "metadata": {},
   "source": [
    "## Creating data for training\n",
    "#### In 4 words as input and 1 as output format"
   ]
  },
  {
   "cell_type": "code",
   "execution_count": 717,
   "id": "93346665",
   "metadata": {},
   "outputs": [],
   "source": [
    "xtr=[]\n",
    "ytr=[]\n",
    "\n",
    "for i in range(4,len(Q),1):\n",
    "    w1=Q[i-4]\n",
    "    w2=Q[i-3]\n",
    "    w3=Q[i-2]\n",
    "    w4=Q[i-1]\n",
    "    wy=Q[i]\n",
    "    line=w1+' '+w2+' '+w3+' '+w4\n",
    "    xtr.append(line)\n",
    "    ytr.append(wy)"
   ]
  },
  {
   "cell_type": "code",
   "execution_count": 718,
   "id": "5044b263",
   "metadata": {},
   "outputs": [
    {
     "data": {
      "text/plain": [
       "454"
      ]
     },
     "execution_count": 718,
     "metadata": {},
     "output_type": "execute_result"
    }
   ],
   "source": [
    "len(xtr)"
   ]
  },
  {
   "cell_type": "code",
   "execution_count": 719,
   "id": "c72963fd",
   "metadata": {},
   "outputs": [
    {
     "data": {
      "text/plain": [
       "454"
      ]
     },
     "execution_count": 719,
     "metadata": {},
     "output_type": "execute_result"
    }
   ],
   "source": [
    "len(ytr)"
   ]
  },
  {
   "cell_type": "code",
   "execution_count": 720,
   "id": "3d184a8c",
   "metadata": {},
   "outputs": [
    {
     "data": {
      "text/plain": [
       "['PROJECT GUTENBERGS THE ADVENTURES',\n",
       " 'GUTENBERGS THE ADVENTURES OF',\n",
       " 'THE ADVENTURES OF SHERLOCK',\n",
       " 'ADVENTURES OF SHERLOCK HOLMES',\n",
       " 'OF SHERLOCK HOLMES BY',\n",
       " 'SHERLOCK HOLMES BY ARTHUR',\n",
       " 'HOLMES BY ARTHUR CONAN',\n",
       " 'BY ARTHUR CONAN DOYLETHIS',\n",
       " 'ARTHUR CONAN DOYLETHIS EBOOK',\n",
       " 'CONAN DOYLETHIS EBOOK IS',\n",
       " 'DOYLETHIS EBOOK IS FOR',\n",
       " 'EBOOK IS FOR THE',\n",
       " 'IS FOR THE USE',\n",
       " 'FOR THE USE OF',\n",
       " 'THE USE OF ANYONE',\n",
       " 'USE OF ANYONE ANYWHERE',\n",
       " 'OF ANYONE ANYWHERE AT',\n",
       " 'ANYONE ANYWHERE AT NO',\n",
       " 'ANYWHERE AT NO COST',\n",
       " 'AT NO COST AND',\n",
       " 'NO COST AND WITHALMOST',\n",
       " 'COST AND WITHALMOST NO',\n",
       " 'AND WITHALMOST NO RESTRICTIONS',\n",
       " 'WITHALMOST NO RESTRICTIONS WHATSOEVER',\n",
       " 'NO RESTRICTIONS WHATSOEVER YOU',\n",
       " 'RESTRICTIONS WHATSOEVER YOU MAY',\n",
       " 'WHATSOEVER YOU MAY COPY',\n",
       " 'YOU MAY COPY IT',\n",
       " 'MAY COPY IT GIVE',\n",
       " 'COPY IT GIVE IT']"
      ]
     },
     "execution_count": 720,
     "metadata": {},
     "output_type": "execute_result"
    }
   ],
   "source": [
    "xtr[0:30]"
   ]
  },
  {
   "cell_type": "code",
   "execution_count": 721,
   "id": "afd4ebac",
   "metadata": {},
   "outputs": [
    {
     "data": {
      "text/plain": [
       "['OF',\n",
       " 'SHERLOCK',\n",
       " 'HOLMES',\n",
       " 'BY',\n",
       " 'ARTHUR',\n",
       " 'CONAN',\n",
       " 'DOYLETHIS',\n",
       " 'EBOOK',\n",
       " 'IS',\n",
       " 'FOR',\n",
       " 'THE',\n",
       " 'USE',\n",
       " 'OF',\n",
       " 'ANYONE',\n",
       " 'ANYWHERE',\n",
       " 'AT',\n",
       " 'NO',\n",
       " 'COST',\n",
       " 'AND',\n",
       " 'WITHALMOST',\n",
       " 'NO',\n",
       " 'RESTRICTIONS',\n",
       " 'WHATSOEVER',\n",
       " 'YOU',\n",
       " 'MAY',\n",
       " 'COPY',\n",
       " 'IT',\n",
       " 'GIVE',\n",
       " 'IT',\n",
       " 'AWAY']"
      ]
     },
     "execution_count": 721,
     "metadata": {},
     "output_type": "execute_result"
    }
   ],
   "source": [
    "ytr[0:30]"
   ]
  },
  {
   "cell_type": "markdown",
   "id": "1f5b1316",
   "metadata": {},
   "source": [
    "# FInd Unique words"
   ]
  },
  {
   "cell_type": "code",
   "execution_count": 722,
   "id": "651c237a",
   "metadata": {},
   "outputs": [
    {
     "data": {
      "text/plain": [
       "array(['1661LAST', '20', '2002', '2019LANGUAGE', '29', 'A', 'ABHORRENT',\n",
       "       'ABSORB', 'ACTIONS', 'ADLER', 'ADMIRABLE', 'ADMIRABLY', 'ADMIT',\n",
       "       'ADVENTURE', 'ADVENTURES', 'AFALSE', 'ALL', 'ALTERNATING',\n",
       "       'ALWAYS', 'AMBITIONTHE', 'AMONG', 'AN', 'AND', 'ANDPREDOMINATES',\n",
       "       'ANDYET', 'ANONYMOUS', 'ANY', 'ANYONE', 'ANYWHERE', 'AROUND',\n",
       "       'ARTHUR', 'AS', 'AT', 'ATTENTIONWHILE', 'AWAY', 'AWAYFROM',\n",
       "       'BACHELOR', 'BAKER', 'BALANCED', 'BAND', 'BEECHESI', 'BERYL',\n",
       "       'BETWEEN', 'BLUE', 'BOHEMIA', 'BOHEMIAITO', 'BOHEMIANSOUL',\n",
       "       'BOSCOMBE', 'BURIED', 'BUT', 'BY', 'CARBUNCLE', 'CASE', 'COCAINE',\n",
       "       'COLD', 'COMPLETE', 'CONAN', 'COPPER', 'COPY', 'CORONET', 'COST',\n",
       "       'CRACK', 'DATE', 'DELICATE', 'DISTRACTING', 'DISTURBING', 'DOUBT',\n",
       "       'DOYLECONTENTS', 'DOYLERELEASE', 'DOYLETHIS', 'DRIFTED',\n",
       "       'DROWSINESS', 'DRUG', 'DUBIOUS', 'EACH', 'EBOOK', 'ECLIPSES',\n",
       "       'EMOTION', 'EMOTIONAKIN', 'EMOTIONS', 'ENCODING', 'ENERGY',\n",
       "       'ENGINEERS', 'ENGLISHCHARACTER', 'ESTABLISHMENT', 'EVE', 'EVERY',\n",
       "       'EYES', 'FACTOR', 'FELT', 'FIERCE', 'FINDS', 'FINELYADJUSTED',\n",
       "       'FIRST', 'FIVE', 'FOR', 'FORDRAWING', 'FORM', 'FROM', 'GIBEAND'],\n",
       "      dtype='<U20')"
      ]
     },
     "execution_count": 722,
     "metadata": {},
     "output_type": "execute_result"
    }
   ],
   "source": [
    "from numpy import unique\n",
    "unique_words=unique(Q)\n",
    "unique_words[0:100]"
   ]
  },
  {
   "cell_type": "code",
   "execution_count": 723,
   "id": "699d1a0a",
   "metadata": {},
   "outputs": [
    {
     "data": {
      "text/plain": [
       "267"
      ]
     },
     "execution_count": 723,
     "metadata": {},
     "output_type": "execute_result"
    }
   ],
   "source": [
    "len(unique_words)"
   ]
  },
  {
   "cell_type": "markdown",
   "id": "68a967c0",
   "metadata": {},
   "source": [
    "## Changing training data into X and Y format"
   ]
  },
  {
   "cell_type": "code",
   "execution_count": 724,
   "id": "824ff395",
   "metadata": {},
   "outputs": [],
   "source": [
    "#now i have to change training data into 3d array and output of training data into 2d arrray\n",
    "lines=len(xtr)\n",
    "uniques=len(unique_words)\n",
    "seq=4"
   ]
  },
  {
   "cell_type": "code",
   "execution_count": 725,
   "id": "8352984f",
   "metadata": {},
   "outputs": [],
   "source": [
    "from numpy import zeros\n",
    "xtr_arr=zeros((lines,uniques,seq))\n",
    "ytr_arr=zeros((lines,uniques))"
   ]
  },
  {
   "cell_type": "markdown",
   "id": "d7163f7e",
   "metadata": {},
   "source": [
    "### Indexing the lines and words "
   ]
  },
  {
   "cell_type": "code",
   "execution_count": 726,
   "id": "8ad4596e",
   "metadata": {},
   "outputs": [],
   "source": [
    "line_enum=list(enumerate(xtr))\n",
    "unique_enum=list(enumerate(unique_words))"
   ]
  },
  {
   "cell_type": "code",
   "execution_count": 727,
   "id": "0b2b9663",
   "metadata": {},
   "outputs": [],
   "source": [
    "#lookup operation for finding the index of word\n",
    "position_finder={}\n",
    "for i,j in unique_enum:\n",
    "    position_finder[j]=i"
   ]
  },
  {
   "cell_type": "code",
   "execution_count": 728,
   "id": "c9d2ad74",
   "metadata": {},
   "outputs": [
    {
     "data": {
      "text/plain": [
       "227"
      ]
     },
     "execution_count": 728,
     "metadata": {},
     "output_type": "execute_result"
    }
   ],
   "source": [
    "position_finder['THE']"
   ]
  },
  {
   "cell_type": "code",
   "execution_count": 729,
   "id": "20e4627d",
   "metadata": {},
   "outputs": [
    {
     "data": {
      "text/plain": [
       "(5, 'SHERLOCK HOLMES BY ARTHUR')"
      ]
     },
     "execution_count": 729,
     "metadata": {},
     "output_type": "execute_result"
    }
   ],
   "source": [
    "line_enum[5]"
   ]
  },
  {
   "cell_type": "code",
   "execution_count": 730,
   "id": "e6cb5a5f",
   "metadata": {},
   "outputs": [],
   "source": [
    "#creating 3D array (X)\n",
    "for line_no,line in line_enum:\n",
    "    for seq,word in enumerate(line.split(' ')):\n",
    "        xtr_arr[line_no,position_finder[word],seq]=1\n",
    "    "
   ]
  },
  {
   "cell_type": "code",
   "execution_count": 731,
   "id": "bf0b8c8d",
   "metadata": {},
   "outputs": [],
   "source": [
    "position=position_finder['BY']"
   ]
  },
  {
   "cell_type": "code",
   "execution_count": 773,
   "id": "f977620c",
   "metadata": {},
   "outputs": [],
   "source": [
    "#xtr_arr[5,497,2]"
   ]
  },
  {
   "cell_type": "code",
   "execution_count": 733,
   "id": "038f9eff",
   "metadata": {},
   "outputs": [],
   "source": [
    "#Creating Y array\n",
    "for i,j in enumerate(ytr):\n",
    "    pos=position_finder[j]\n",
    "    ytr_arr[i,pos]=1"
   ]
  },
  {
   "cell_type": "code",
   "execution_count": 772,
   "id": "def0082a",
   "metadata": {},
   "outputs": [],
   "source": [
    "#ytr_arr[3,497]"
   ]
  },
  {
   "cell_type": "code",
   "execution_count": 744,
   "id": "7a4bcc85",
   "metadata": {},
   "outputs": [
    {
     "data": {
      "text/plain": [
       "(454, 267, 4)"
      ]
     },
     "execution_count": 744,
     "metadata": {},
     "output_type": "execute_result"
    }
   ],
   "source": [
    "xtr_arr.shape"
   ]
  },
  {
   "cell_type": "code",
   "execution_count": 745,
   "id": "e61c5241",
   "metadata": {},
   "outputs": [
    {
     "data": {
      "text/plain": [
       "(267, 4)"
      ]
     },
     "execution_count": 745,
     "metadata": {},
     "output_type": "execute_result"
    }
   ],
   "source": [
    "SHAPE=xtr_arr.shape[1:3]\n",
    "SHAPE"
   ]
  },
  {
   "cell_type": "code",
   "execution_count": 746,
   "id": "d2c32062",
   "metadata": {},
   "outputs": [],
   "source": [
    "hidden_neurons=SHAPE[0]"
   ]
  },
  {
   "cell_type": "code",
   "execution_count": 735,
   "id": "ac25ec27",
   "metadata": {},
   "outputs": [
    {
     "data": {
      "text/plain": [
       "267"
      ]
     },
     "execution_count": 735,
     "metadata": {},
     "output_type": "execute_result"
    }
   ],
   "source": [
    "uniques"
   ]
  },
  {
   "cell_type": "markdown",
   "id": "9ef61604",
   "metadata": {},
   "source": [
    "##  Recurrent Neural Network"
   ]
  },
  {
   "cell_type": "code",
   "execution_count": 747,
   "id": "a2c6276a",
   "metadata": {},
   "outputs": [],
   "source": [
    "import tensorflow\n",
    "from keras.layers import Dense,Dropout,LSTM\n",
    "from keras.models import Sequential\n",
    "from keras.activations import softmax\n",
    "from keras.layers.core import Activation\n",
    "from tensorflow.keras.optimizers import Adam\n",
    "from tensorflow.keras.optimizers import RMSprop"
   ]
  },
  {
   "cell_type": "code",
   "execution_count": 748,
   "id": "0b6f7486",
   "metadata": {},
   "outputs": [
    {
     "name": "stdout",
     "output_type": "stream",
     "text": [
      "Epoch 1/300\n",
      "15/15 [==============================] - 4s 118ms/step - loss: 5.5561\n",
      "Epoch 2/300\n",
      "15/15 [==============================] - 2s 115ms/step - loss: 5.2775\n",
      "Epoch 3/300\n",
      "15/15 [==============================] - 2s 116ms/step - loss: 5.2128\n",
      "Epoch 4/300\n",
      "15/15 [==============================] - 2s 116ms/step - loss: 5.1922\n",
      "Epoch 5/300\n",
      "15/15 [==============================] - 2s 118ms/step - loss: 5.1809\n",
      "Epoch 6/300\n",
      "15/15 [==============================] - 2s 117ms/step - loss: 5.1790\n",
      "Epoch 7/300\n",
      "15/15 [==============================] - 2s 115ms/step - loss: 5.1706\n",
      "Epoch 8/300\n",
      "15/15 [==============================] - 2s 118ms/step - loss: 5.1692\n",
      "Epoch 9/300\n",
      "15/15 [==============================] - 2s 117ms/step - loss: 5.1654\n",
      "Epoch 10/300\n",
      "15/15 [==============================] - 2s 118ms/step - loss: 5.1663\n",
      "Epoch 11/300\n",
      "15/15 [==============================] - 2s 116ms/step - loss: 5.1620\n",
      "Epoch 12/300\n",
      "15/15 [==============================] - 2s 118ms/step - loss: 5.1608\n",
      "Epoch 13/300\n",
      "15/15 [==============================] - 2s 117ms/step - loss: 5.1599\n",
      "Epoch 14/300\n",
      "15/15 [==============================] - 2s 117ms/step - loss: 5.1580\n",
      "Epoch 15/300\n",
      "15/15 [==============================] - 2s 116ms/step - loss: 5.1584\n",
      "Epoch 16/300\n",
      "15/15 [==============================] - 2s 114ms/step - loss: 5.1568\n",
      "Epoch 17/300\n",
      "15/15 [==============================] - 2s 115ms/step - loss: 5.1526\n",
      "Epoch 18/300\n",
      "15/15 [==============================] - 2s 118ms/step - loss: 5.1554\n",
      "Epoch 19/300\n",
      "15/15 [==============================] - 2s 116ms/step - loss: 5.1543\n",
      "Epoch 20/300\n",
      "15/15 [==============================] - 2s 141ms/step - loss: 5.1521\n",
      "Epoch 21/300\n",
      "15/15 [==============================] - 2s 126ms/step - loss: 5.1512\n",
      "Epoch 22/300\n",
      "15/15 [==============================] - 2s 126ms/step - loss: 5.1489\n",
      "Epoch 23/300\n",
      "15/15 [==============================] - 2s 144ms/step - loss: 5.1486\n",
      "Epoch 24/300\n",
      "15/15 [==============================] - 2s 123ms/step - loss: 5.1477\n",
      "Epoch 25/300\n",
      "15/15 [==============================] - 2s 122ms/step - loss: 5.1485\n",
      "Epoch 26/300\n",
      "15/15 [==============================] - 2s 116ms/step - loss: 5.1454\n",
      "Epoch 27/300\n",
      "15/15 [==============================] - 2s 159ms/step - loss: 5.1410\n",
      "Epoch 28/300\n",
      "15/15 [==============================] - 2s 116ms/step - loss: 5.1487\n",
      "Epoch 29/300\n",
      "15/15 [==============================] - 2s 118ms/step - loss: 5.1435\n",
      "Epoch 30/300\n",
      "15/15 [==============================] - 2s 119ms/step - loss: 5.1434\n",
      "Epoch 31/300\n",
      "15/15 [==============================] - 2s 115ms/step - loss: 5.1406\n",
      "Epoch 32/300\n",
      "15/15 [==============================] - 2s 117ms/step - loss: 5.1403\n",
      "Epoch 33/300\n",
      "15/15 [==============================] - 2s 116ms/step - loss: 5.1366\n",
      "Epoch 34/300\n",
      "15/15 [==============================] - 2s 116ms/step - loss: 5.1352\n",
      "Epoch 35/300\n",
      "15/15 [==============================] - 2s 116ms/step - loss: 5.1416\n",
      "Epoch 36/300\n",
      "15/15 [==============================] - 2s 116ms/step - loss: 5.1274\n",
      "Epoch 37/300\n",
      "15/15 [==============================] - 3s 206ms/step - loss: 5.1311\n",
      "Epoch 38/300\n",
      "15/15 [==============================] - 2s 147ms/step - loss: 5.1222\n",
      "Epoch 39/300\n",
      "15/15 [==============================] - 3s 189ms/step - loss: 5.1163\n",
      "Epoch 40/300\n",
      "15/15 [==============================] - 3s 167ms/step - loss: 5.0962\n",
      "Epoch 41/300\n",
      "15/15 [==============================] - 2s 153ms/step - loss: 5.0995\n",
      "Epoch 42/300\n",
      "15/15 [==============================] - 2s 115ms/step - loss: 5.0854\n",
      "Epoch 43/300\n",
      "15/15 [==============================] - 2s 117ms/step - loss: 5.0784\n",
      "Epoch 44/300\n",
      "15/15 [==============================] - 2s 115ms/step - loss: 5.0664\n",
      "Epoch 45/300\n",
      "15/15 [==============================] - 2s 122ms/step - loss: 5.0537\n",
      "Epoch 46/300\n",
      "15/15 [==============================] - 2s 128ms/step - loss: 5.1245\n",
      "Epoch 47/300\n",
      "15/15 [==============================] - 2s 116ms/step - loss: 5.0630\n",
      "Epoch 48/300\n",
      "15/15 [==============================] - 2s 115ms/step - loss: 5.0373\n",
      "Epoch 49/300\n",
      "15/15 [==============================] - 2s 116ms/step - loss: 5.0252\n",
      "Epoch 50/300\n",
      "15/15 [==============================] - 2s 115ms/step - loss: 5.0229\n",
      "Epoch 51/300\n",
      "15/15 [==============================] - 2s 117ms/step - loss: 5.0187\n",
      "Epoch 52/300\n",
      "15/15 [==============================] - 2s 115ms/step - loss: 4.9907\n",
      "Epoch 53/300\n",
      "15/15 [==============================] - 2s 115ms/step - loss: 5.0145\n",
      "Epoch 54/300\n",
      "15/15 [==============================] - 2s 154ms/step - loss: 4.9636\n",
      "Epoch 55/300\n",
      "15/15 [==============================] - 2s 141ms/step - loss: 4.9439\n",
      "Epoch 56/300\n",
      "15/15 [==============================] - 2s 119ms/step - loss: 4.9375\n",
      "Epoch 57/300\n",
      "15/15 [==============================] - 2s 121ms/step - loss: 4.8984\n",
      "Epoch 58/300\n",
      "15/15 [==============================] - 2s 131ms/step - loss: 4.8590\n",
      "Epoch 59/300\n",
      "15/15 [==============================] - 2s 134ms/step - loss: 4.8315\n",
      "Epoch 60/300\n",
      "15/15 [==============================] - 2s 137ms/step - loss: 4.8092\n",
      "Epoch 61/300\n",
      "15/15 [==============================] - 2s 151ms/step - loss: 4.7959\n",
      "Epoch 62/300\n",
      "15/15 [==============================] - 2s 124ms/step - loss: 4.7563\n",
      "Epoch 63/300\n",
      "15/15 [==============================] - 2s 159ms/step - loss: 4.7188\n",
      "Epoch 64/300\n",
      "15/15 [==============================] - 2s 122ms/step - loss: 4.7033\n",
      "Epoch 65/300\n",
      "15/15 [==============================] - 2s 123ms/step - loss: 4.6576\n",
      "Epoch 66/300\n",
      "15/15 [==============================] - 2s 129ms/step - loss: 4.6412\n",
      "Epoch 67/300\n",
      "15/15 [==============================] - 2s 155ms/step - loss: 4.5874\n",
      "Epoch 68/300\n",
      "15/15 [==============================] - 2s 143ms/step - loss: 4.5836\n",
      "Epoch 69/300\n",
      "15/15 [==============================] - 2s 131ms/step - loss: 4.5356\n",
      "Epoch 70/300\n",
      "15/15 [==============================] - 2s 141ms/step - loss: 4.5229\n",
      "Epoch 71/300\n",
      "15/15 [==============================] - 2s 161ms/step - loss: 4.4772\n",
      "Epoch 72/300\n",
      "15/15 [==============================] - 2s 156ms/step - loss: 5.1350\n",
      "Epoch 73/300\n",
      "15/15 [==============================] - 3s 169ms/step - loss: 5.3659\n",
      "Epoch 74/300\n",
      "15/15 [==============================] - 2s 158ms/step - loss: 5.1969\n",
      "Epoch 75/300\n",
      "15/15 [==============================] - 2s 137ms/step - loss: 4.9346\n",
      "Epoch 76/300\n",
      "15/15 [==============================] - 2s 127ms/step - loss: 4.8480\n",
      "Epoch 77/300\n",
      "15/15 [==============================] - 2s 125ms/step - loss: 4.8839\n",
      "Epoch 78/300\n",
      "15/15 [==============================] - 2s 126ms/step - loss: 4.7735\n",
      "Epoch 79/300\n",
      "15/15 [==============================] - 2s 125ms/step - loss: 4.6970\n",
      "Epoch 80/300\n",
      "15/15 [==============================] - 2s 156ms/step - loss: 4.6026\n",
      "Epoch 81/300\n",
      "15/15 [==============================] - 2s 146ms/step - loss: 4.5086\n",
      "Epoch 82/300\n",
      "15/15 [==============================] - 2s 123ms/step - loss: 4.4350\n",
      "Epoch 83/300\n",
      "15/15 [==============================] - 2s 147ms/step - loss: 4.4283\n",
      "Epoch 84/300\n",
      "15/15 [==============================] - 2s 126ms/step - loss: 4.4267\n",
      "Epoch 85/300\n",
      "15/15 [==============================] - 2s 145ms/step - loss: 4.3820\n",
      "Epoch 86/300\n",
      "15/15 [==============================] - 2s 134ms/step - loss: 4.3188\n",
      "Epoch 87/300\n",
      "15/15 [==============================] - 2s 122ms/step - loss: 4.4764\n",
      "Epoch 88/300\n",
      "15/15 [==============================] - 2s 116ms/step - loss: 4.4893\n",
      "Epoch 89/300\n",
      "15/15 [==============================] - 2s 122ms/step - loss: 4.2862\n",
      "Epoch 90/300\n",
      "15/15 [==============================] - 2s 117ms/step - loss: 4.2440\n",
      "Epoch 91/300\n",
      "15/15 [==============================] - 2s 117ms/step - loss: 4.2322\n",
      "Epoch 92/300\n",
      "15/15 [==============================] - 2s 117ms/step - loss: 4.2021\n",
      "Epoch 93/300\n",
      "15/15 [==============================] - 2s 122ms/step - loss: 4.1883\n",
      "Epoch 94/300\n",
      "15/15 [==============================] - 2s 134ms/step - loss: 5.4716\n",
      "Epoch 95/300\n",
      "15/15 [==============================] - 2s 126ms/step - loss: 5.6762\n",
      "Epoch 96/300\n",
      "15/15 [==============================] - 2s 116ms/step - loss: 5.4842\n",
      "Epoch 97/300\n",
      "15/15 [==============================] - 2s 115ms/step - loss: 5.4373\n",
      "Epoch 98/300\n",
      "15/15 [==============================] - 2s 116ms/step - loss: 5.1809\n",
      "Epoch 99/300\n",
      "15/15 [==============================] - 2s 116ms/step - loss: 4.7847\n",
      "Epoch 100/300\n",
      "15/15 [==============================] - 2s 121ms/step - loss: 4.4135\n",
      "Epoch 101/300\n",
      "15/15 [==============================] - 2s 128ms/step - loss: 4.3626\n",
      "Epoch 102/300\n",
      "15/15 [==============================] - 2s 121ms/step - loss: 4.2584\n",
      "Epoch 103/300\n",
      "15/15 [==============================] - 2s 121ms/step - loss: 4.2153\n",
      "Epoch 104/300\n",
      "15/15 [==============================] - 2s 126ms/step - loss: 4.2984\n",
      "Epoch 105/300\n",
      "15/15 [==============================] - 2s 139ms/step - loss: 4.1536\n",
      "Epoch 106/300\n",
      "15/15 [==============================] - 2s 125ms/step - loss: 4.1706\n",
      "Epoch 107/300\n",
      "15/15 [==============================] - 2s 116ms/step - loss: 4.0869\n",
      "Epoch 108/300\n",
      "15/15 [==============================] - 2s 125ms/step - loss: 4.0249\n",
      "Epoch 109/300\n",
      "15/15 [==============================] - 2s 123ms/step - loss: 4.1969\n",
      "Epoch 110/300\n",
      "15/15 [==============================] - 2s 122ms/step - loss: 4.0403\n",
      "Epoch 111/300\n",
      "15/15 [==============================] - 2s 116ms/step - loss: 3.9449\n",
      "Epoch 112/300\n",
      "15/15 [==============================] - 2s 124ms/step - loss: 3.9038\n",
      "Epoch 113/300\n",
      "15/15 [==============================] - 2s 123ms/step - loss: 3.9922\n",
      "Epoch 114/300\n",
      "15/15 [==============================] - 2s 115ms/step - loss: 3.9329\n",
      "Epoch 115/300\n",
      "15/15 [==============================] - 2s 115ms/step - loss: 3.8862\n",
      "Epoch 116/300\n",
      "15/15 [==============================] - 2s 116ms/step - loss: 3.7933\n",
      "Epoch 117/300\n",
      "15/15 [==============================] - 2s 115ms/step - loss: 3.8164\n",
      "Epoch 118/300\n",
      "15/15 [==============================] - 2s 114ms/step - loss: 3.8718\n",
      "Epoch 119/300\n",
      "15/15 [==============================] - 2s 115ms/step - loss: 3.7323\n",
      "Epoch 120/300\n",
      "15/15 [==============================] - 2s 116ms/step - loss: 4.7032\n",
      "Epoch 121/300\n",
      "15/15 [==============================] - 2s 115ms/step - loss: 5.0254\n",
      "Epoch 122/300\n",
      "15/15 [==============================] - 2s 115ms/step - loss: 5.0237\n",
      "Epoch 123/300\n",
      "15/15 [==============================] - 2s 115ms/step - loss: 4.5751\n",
      "Epoch 124/300\n",
      "15/15 [==============================] - 2s 119ms/step - loss: 4.2563\n",
      "Epoch 125/300\n",
      "15/15 [==============================] - 2s 123ms/step - loss: 4.1278\n",
      "Epoch 126/300\n",
      "15/15 [==============================] - 2s 118ms/step - loss: 4.0271\n",
      "Epoch 127/300\n",
      "15/15 [==============================] - 2s 114ms/step - loss: 3.8737\n",
      "Epoch 128/300\n",
      "15/15 [==============================] - 2s 115ms/step - loss: 3.7373\n",
      "Epoch 129/300\n",
      "15/15 [==============================] - 2s 114ms/step - loss: 4.7822\n",
      "Epoch 130/300\n",
      "15/15 [==============================] - 2s 114ms/step - loss: 5.1599\n",
      "Epoch 131/300\n",
      "15/15 [==============================] - 2s 115ms/step - loss: 5.2300\n",
      "Epoch 132/300\n",
      "15/15 [==============================] - 2s 114ms/step - loss: 5.2370\n",
      "Epoch 133/300\n",
      "15/15 [==============================] - 2s 116ms/step - loss: 5.0573\n",
      "Epoch 134/300\n",
      "15/15 [==============================] - 2s 116ms/step - loss: 5.0062\n",
      "Epoch 135/300\n",
      "15/15 [==============================] - 2s 141ms/step - loss: 4.9546\n",
      "Epoch 136/300\n",
      "15/15 [==============================] - 2s 129ms/step - loss: 5.2182\n",
      "Epoch 137/300\n",
      "15/15 [==============================] - 2s 123ms/step - loss: 5.0000\n",
      "Epoch 138/300\n",
      "15/15 [==============================] - 2s 117ms/step - loss: 4.8655\n",
      "Epoch 139/300\n",
      "15/15 [==============================] - 2s 123ms/step - loss: 4.9346\n",
      "Epoch 140/300\n",
      "15/15 [==============================] - 2s 144ms/step - loss: 4.8166\n",
      "Epoch 141/300\n",
      "15/15 [==============================] - 2s 124ms/step - loss: 4.7083\n",
      "Epoch 142/300\n",
      "15/15 [==============================] - 2s 117ms/step - loss: 4.5588\n",
      "Epoch 143/300\n",
      "15/15 [==============================] - 2s 123ms/step - loss: 5.0786\n",
      "Epoch 144/300\n",
      "15/15 [==============================] - 2s 127ms/step - loss: 5.1288\n",
      "Epoch 145/300\n",
      "15/15 [==============================] - 2s 115ms/step - loss: 4.9601\n",
      "Epoch 146/300\n",
      "15/15 [==============================] - 2s 122ms/step - loss: 4.8925\n",
      "Epoch 147/300\n",
      "15/15 [==============================] - 2s 122ms/step - loss: 4.9476\n",
      "Epoch 148/300\n",
      "15/15 [==============================] - 2s 130ms/step - loss: 4.7879\n",
      "Epoch 149/300\n",
      "15/15 [==============================] - 2s 128ms/step - loss: 4.6263\n",
      "Epoch 150/300\n",
      "15/15 [==============================] - 2s 118ms/step - loss: 4.6319\n",
      "Epoch 151/300\n",
      "15/15 [==============================] - 2s 117ms/step - loss: 4.4074\n",
      "Epoch 152/300\n",
      "15/15 [==============================] - 2s 115ms/step - loss: 4.5327\n",
      "Epoch 153/300\n",
      "15/15 [==============================] - 2s 114ms/step - loss: 4.4564\n",
      "Epoch 154/300\n",
      "15/15 [==============================] - 2s 125ms/step - loss: 5.2994\n",
      "Epoch 155/300\n",
      "15/15 [==============================] - 2s 115ms/step - loss: 5.3862\n",
      "Epoch 156/300\n",
      "15/15 [==============================] - 2s 119ms/step - loss: 5.4541\n",
      "Epoch 157/300\n",
      "15/15 [==============================] - 2s 135ms/step - loss: 5.2325\n",
      "Epoch 158/300\n",
      "15/15 [==============================] - 2s 156ms/step - loss: 4.9226\n",
      "Epoch 159/300\n",
      "15/15 [==============================] - 2s 142ms/step - loss: 4.5896\n",
      "Epoch 160/300\n",
      "15/15 [==============================] - 2s 123ms/step - loss: 4.3856\n",
      "Epoch 161/300\n",
      "15/15 [==============================] - 2s 131ms/step - loss: 4.2389\n",
      "Epoch 162/300\n",
      "15/15 [==============================] - 2s 127ms/step - loss: 4.0837\n",
      "Epoch 163/300\n",
      "15/15 [==============================] - 2s 161ms/step - loss: 4.1391\n",
      "Epoch 164/300\n",
      "15/15 [==============================] - 2s 131ms/step - loss: 3.9399\n",
      "Epoch 165/300\n",
      "15/15 [==============================] - 2s 123ms/step - loss: 3.8546\n",
      "Epoch 166/300\n",
      "15/15 [==============================] - 2s 124ms/step - loss: 3.8174\n",
      "Epoch 167/300\n",
      "15/15 [==============================] - 2s 123ms/step - loss: 3.7759\n",
      "Epoch 168/300\n",
      "15/15 [==============================] - 2s 124ms/step - loss: 3.7370\n",
      "Epoch 169/300\n",
      "15/15 [==============================] - 2s 127ms/step - loss: 3.6946\n",
      "Epoch 170/300\n",
      "15/15 [==============================] - 2s 124ms/step - loss: 3.6755\n",
      "Epoch 171/300\n",
      "15/15 [==============================] - 2s 123ms/step - loss: 3.6832\n",
      "Epoch 172/300\n",
      "15/15 [==============================] - 2s 123ms/step - loss: 3.6254\n",
      "Epoch 173/300\n",
      "15/15 [==============================] - 2s 124ms/step - loss: 4.3356\n",
      "Epoch 174/300\n",
      "15/15 [==============================] - 2s 117ms/step - loss: 3.9012\n",
      "Epoch 175/300\n",
      "15/15 [==============================] - 2s 125ms/step - loss: 3.7182 0s - loss: \n",
      "Epoch 176/300\n",
      "15/15 [==============================] - 2s 124ms/step - loss: 3.5999\n",
      "Epoch 177/300\n",
      "15/15 [==============================] - 2s 117ms/step - loss: 4.1164\n",
      "Epoch 178/300\n",
      "15/15 [==============================] - 2s 134ms/step - loss: 4.4865\n",
      "Epoch 179/300\n",
      "15/15 [==============================] - 2s 120ms/step - loss: 4.5286\n",
      "Epoch 180/300\n",
      "15/15 [==============================] - 2s 126ms/step - loss: 4.5623\n",
      "Epoch 181/300\n",
      "15/15 [==============================] - 2s 117ms/step - loss: 4.3770\n",
      "Epoch 182/300\n",
      "15/15 [==============================] - 2s 124ms/step - loss: 4.1661\n",
      "Epoch 183/300\n",
      "15/15 [==============================] - 2s 124ms/step - loss: 4.1203\n",
      "Epoch 184/300\n",
      "15/15 [==============================] - 2s 125ms/step - loss: 3.8911\n",
      "Epoch 185/300\n",
      "15/15 [==============================] - 2s 125ms/step - loss: 3.6894\n",
      "Epoch 186/300\n",
      "15/15 [==============================] - 2s 135ms/step - loss: 3.5852\n",
      "Epoch 187/300\n",
      "15/15 [==============================] - 2s 132ms/step - loss: 3.4900\n",
      "Epoch 188/300\n",
      "15/15 [==============================] - 2s 116ms/step - loss: 3.5644\n",
      "Epoch 189/300\n",
      "15/15 [==============================] - 2s 136ms/step - loss: 4.1785\n",
      "Epoch 190/300\n",
      "15/15 [==============================] - 2s 120ms/step - loss: 4.1246\n",
      "Epoch 191/300\n",
      "15/15 [==============================] - 2s 140ms/step - loss: 4.0231\n",
      "Epoch 192/300\n",
      "15/15 [==============================] - 2s 158ms/step - loss: 4.1622\n",
      "Epoch 193/300\n",
      "15/15 [==============================] - 2s 132ms/step - loss: 4.0274\n",
      "Epoch 194/300\n",
      "15/15 [==============================] - 2s 155ms/step - loss: 3.9395\n",
      "Epoch 195/300\n",
      "15/15 [==============================] - 3s 189ms/step - loss: 4.1640\n",
      "Epoch 196/300\n",
      "15/15 [==============================] - 2s 153ms/step - loss: 4.0989\n",
      "Epoch 197/300\n",
      "15/15 [==============================] - 2s 151ms/step - loss: 4.0339\n",
      "Epoch 198/300\n",
      "15/15 [==============================] - 2s 150ms/step - loss: 3.6953\n",
      "Epoch 199/300\n",
      "15/15 [==============================] - 2s 148ms/step - loss: 5.1392\n",
      "Epoch 200/300\n",
      "15/15 [==============================] - 3s 178ms/step - loss: 5.3051\n",
      "Epoch 201/300\n",
      "15/15 [==============================] - 2s 144ms/step - loss: 5.1577\n",
      "Epoch 202/300\n",
      "15/15 [==============================] - 2s 133ms/step - loss: 5.2033\n",
      "Epoch 203/300\n",
      "15/15 [==============================] - 2s 134ms/step - loss: 5.2573\n",
      "Epoch 204/300\n",
      "15/15 [==============================] - 2s 141ms/step - loss: 5.1223\n",
      "Epoch 205/300\n",
      "15/15 [==============================] - 2s 134ms/step - loss: 5.0969\n",
      "Epoch 206/300\n",
      "15/15 [==============================] - 2s 116ms/step - loss: 4.9997\n",
      "Epoch 207/300\n",
      "15/15 [==============================] - 2s 125ms/step - loss: 4.9860\n",
      "Epoch 208/300\n",
      "15/15 [==============================] - 2s 137ms/step - loss: 4.9099\n",
      "Epoch 209/300\n",
      "15/15 [==============================] - 2s 122ms/step - loss: 5.0522\n",
      "Epoch 210/300\n",
      "15/15 [==============================] - 2s 122ms/step - loss: 5.0152\n",
      "Epoch 211/300\n",
      "15/15 [==============================] - 2s 124ms/step - loss: 5.0212\n",
      "Epoch 212/300\n",
      "15/15 [==============================] - 2s 122ms/step - loss: 4.9201\n",
      "Epoch 213/300\n",
      "15/15 [==============================] - 2s 130ms/step - loss: 4.9213\n",
      "Epoch 214/300\n",
      "15/15 [==============================] - 2s 137ms/step - loss: 4.7780\n",
      "Epoch 215/300\n",
      "15/15 [==============================] - 2s 120ms/step - loss: 4.9091\n",
      "Epoch 216/300\n",
      "15/15 [==============================] - 2s 131ms/step - loss: 4.8753\n",
      "Epoch 217/300\n",
      "15/15 [==============================] - 2s 135ms/step - loss: 4.7152\n",
      "Epoch 218/300\n",
      "15/15 [==============================] - 2s 117ms/step - loss: 4.6373\n",
      "Epoch 219/300\n",
      "15/15 [==============================] - 2s 127ms/step - loss: 4.4882\n",
      "Epoch 220/300\n",
      "15/15 [==============================] - 2s 134ms/step - loss: 4.5471\n",
      "Epoch 221/300\n",
      "15/15 [==============================] - 2s 118ms/step - loss: 4.8254\n",
      "Epoch 222/300\n",
      "15/15 [==============================] - 2s 125ms/step - loss: 4.8284\n",
      "Epoch 223/300\n",
      "15/15 [==============================] - 2s 116ms/step - loss: 4.6756\n",
      "Epoch 224/300\n",
      "15/15 [==============================] - 2s 116ms/step - loss: 4.5944\n",
      "Epoch 225/300\n",
      "15/15 [==============================] - 2s 144ms/step - loss: 4.4820\n",
      "Epoch 226/300\n",
      "15/15 [==============================] - 2s 121ms/step - loss: 4.2741\n",
      "Epoch 227/300\n",
      "15/15 [==============================] - 2s 122ms/step - loss: 4.0887\n",
      "Epoch 228/300\n",
      "15/15 [==============================] - 3s 170ms/step - loss: 4.0080\n",
      "Epoch 229/300\n",
      "15/15 [==============================] - 2s 132ms/step - loss: 3.8812\n",
      "Epoch 230/300\n",
      "15/15 [==============================] - 2s 133ms/step - loss: 3.7687\n",
      "Epoch 231/300\n",
      "15/15 [==============================] - 2s 136ms/step - loss: 3.6694\n",
      "Epoch 232/300\n",
      "15/15 [==============================] - 2s 132ms/step - loss: 3.6544\n",
      "Epoch 233/300\n",
      "15/15 [==============================] - 2s 132ms/step - loss: 3.5482\n",
      "Epoch 234/300\n",
      "15/15 [==============================] - 2s 157ms/step - loss: 3.5117\n",
      "Epoch 235/300\n",
      "15/15 [==============================] - 2s 144ms/step - loss: 3.4495\n",
      "Epoch 236/300\n",
      "15/15 [==============================] - 2s 148ms/step - loss: 3.4405\n",
      "Epoch 237/300\n",
      "15/15 [==============================] - 2s 150ms/step - loss: 3.4745\n",
      "Epoch 238/300\n",
      "15/15 [==============================] - 2s 137ms/step - loss: 3.3256\n",
      "Epoch 239/300\n",
      "15/15 [==============================] - 2s 154ms/step - loss: 3.4763\n",
      "Epoch 240/300\n",
      "15/15 [==============================] - 2s 150ms/step - loss: 3.3478\n",
      "Epoch 241/300\n",
      "15/15 [==============================] - 2s 132ms/step - loss: 3.3443\n",
      "Epoch 242/300\n",
      "15/15 [==============================] - 2s 125ms/step - loss: 3.2947\n",
      "Epoch 243/300\n",
      "15/15 [==============================] - 2s 132ms/step - loss: 3.3267\n",
      "Epoch 244/300\n",
      "15/15 [==============================] - 2s 129ms/step - loss: 3.1956\n",
      "Epoch 245/300\n",
      "15/15 [==============================] - 2s 126ms/step - loss: 3.1654\n",
      "Epoch 246/300\n",
      "15/15 [==============================] - 2s 128ms/step - loss: 3.1554\n",
      "Epoch 247/300\n",
      "15/15 [==============================] - 2s 131ms/step - loss: 3.1726\n",
      "Epoch 248/300\n",
      "15/15 [==============================] - 2s 118ms/step - loss: 3.1796\n",
      "Epoch 249/300\n",
      "15/15 [==============================] - 2s 126ms/step - loss: 3.1041\n",
      "Epoch 250/300\n",
      "15/15 [==============================] - 2s 130ms/step - loss: 3.0495\n",
      "Epoch 251/300\n",
      "15/15 [==============================] - 2s 133ms/step - loss: 3.4017\n",
      "Epoch 252/300\n",
      "15/15 [==============================] - 2s 127ms/step - loss: 4.5292\n",
      "Epoch 253/300\n",
      "15/15 [==============================] - 2s 117ms/step - loss: 4.5312\n",
      "Epoch 254/300\n",
      "15/15 [==============================] - 2s 118ms/step - loss: 4.6265\n",
      "Epoch 255/300\n",
      "15/15 [==============================] - 2s 137ms/step - loss: 4.6510\n",
      "Epoch 256/300\n",
      "15/15 [==============================] - 2s 127ms/step - loss: 4.8949\n",
      "Epoch 257/300\n",
      "15/15 [==============================] - 2s 123ms/step - loss: 4.8230\n",
      "Epoch 258/300\n",
      "15/15 [==============================] - 2s 126ms/step - loss: 4.7604\n",
      "Epoch 259/300\n",
      "15/15 [==============================] - 2s 124ms/step - loss: 4.6880\n",
      "Epoch 260/300\n",
      "15/15 [==============================] - 3s 190ms/step - loss: 4.8913\n",
      "Epoch 261/300\n",
      "15/15 [==============================] - 2s 125ms/step - loss: 4.6224\n",
      "Epoch 262/300\n",
      "15/15 [==============================] - 2s 123ms/step - loss: 4.4929\n",
      "Epoch 263/300\n",
      "15/15 [==============================] - 2s 123ms/step - loss: 4.5377\n",
      "Epoch 264/300\n",
      "15/15 [==============================] - 2s 127ms/step - loss: 4.6612\n",
      "Epoch 265/300\n",
      "15/15 [==============================] - 2s 124ms/step - loss: 4.7299\n",
      "Epoch 266/300\n",
      "15/15 [==============================] - 2s 126ms/step - loss: 4.4849\n",
      "Epoch 267/300\n",
      "15/15 [==============================] - 2s 132ms/step - loss: 4.5150\n",
      "Epoch 268/300\n",
      "15/15 [==============================] - 2s 130ms/step - loss: 4.5719\n",
      "Epoch 269/300\n",
      "15/15 [==============================] - 2s 129ms/step - loss: 4.5936\n",
      "Epoch 270/300\n",
      "15/15 [==============================] - 2s 129ms/step - loss: 4.4061\n",
      "Epoch 271/300\n",
      "15/15 [==============================] - 2s 126ms/step - loss: 4.1278\n",
      "Epoch 272/300\n",
      "15/15 [==============================] - 2s 130ms/step - loss: 4.0636\n",
      "Epoch 273/300\n",
      "15/15 [==============================] - 2s 129ms/step - loss: 3.6843\n",
      "Epoch 274/300\n",
      "15/15 [==============================] - 2s 125ms/step - loss: 3.3149\n",
      "Epoch 275/300\n",
      "15/15 [==============================] - 2s 129ms/step - loss: 3.2699\n",
      "Epoch 276/300\n",
      "15/15 [==============================] - 2s 131ms/step - loss: 3.3185\n",
      "Epoch 277/300\n",
      "15/15 [==============================] - 2s 123ms/step - loss: 3.1942\n",
      "Epoch 278/300\n",
      "15/15 [==============================] - 2s 129ms/step - loss: 3.1444\n",
      "Epoch 279/300\n",
      "15/15 [==============================] - 2s 126ms/step - loss: 3.1131\n",
      "Epoch 280/300\n",
      "15/15 [==============================] - 2s 124ms/step - loss: 3.6543\n",
      "Epoch 281/300\n",
      "15/15 [==============================] - 2s 117ms/step - loss: 3.4291\n",
      "Epoch 282/300\n",
      "15/15 [==============================] - 2s 129ms/step - loss: 3.3200\n",
      "Epoch 283/300\n",
      "15/15 [==============================] - 2s 122ms/step - loss: 3.2310\n",
      "Epoch 284/300\n",
      "15/15 [==============================] - 2s 127ms/step - loss: 3.1862\n",
      "Epoch 285/300\n",
      "15/15 [==============================] - 2s 130ms/step - loss: 3.1703\n",
      "Epoch 286/300\n",
      "15/15 [==============================] - 2s 126ms/step - loss: 3.4562\n",
      "Epoch 287/300\n",
      "15/15 [==============================] - 2s 116ms/step - loss: 3.3239\n",
      "Epoch 288/300\n",
      "15/15 [==============================] - 2s 134ms/step - loss: 3.1272\n",
      "Epoch 289/300\n",
      "15/15 [==============================] - 2s 157ms/step - loss: 3.2648\n",
      "Epoch 290/300\n",
      "15/15 [==============================] - 2s 145ms/step - loss: 3.7614\n",
      "Epoch 291/300\n",
      "15/15 [==============================] - 2s 142ms/step - loss: 3.3387\n",
      "Epoch 292/300\n",
      "15/15 [==============================] - 2s 129ms/step - loss: 3.2418\n",
      "Epoch 293/300\n",
      "15/15 [==============================] - 2s 118ms/step - loss: 3.0850\n",
      "Epoch 294/300\n",
      "15/15 [==============================] - 2s 134ms/step - loss: 3.0294\n",
      "Epoch 295/300\n",
      "15/15 [==============================] - 2s 128ms/step - loss: 2.9512\n",
      "Epoch 296/300\n",
      "15/15 [==============================] - 2s 130ms/step - loss: 2.9872\n",
      "Epoch 297/300\n",
      "15/15 [==============================] - 2s 116ms/step - loss: 2.9008\n",
      "Epoch 298/300\n",
      "15/15 [==============================] - 2s 135ms/step - loss: 2.8971\n",
      "Epoch 299/300\n",
      "15/15 [==============================] - 2s 137ms/step - loss: 3.2477\n",
      "Epoch 300/300\n",
      "15/15 [==============================] - 2s 127ms/step - loss: 2.9030\n"
     ]
    }
   ],
   "source": [
    "nn=Sequential()\n",
    "opt=RMSprop(learning_rate=0.002)\n",
    "nn.add(LSTM(50,input_shape=SHAPE))\n",
    "nn.add(Dense(hidden_neurons))\n",
    "nn.add(Activation('softmax'))\n",
    "nn.compile(optimizer=opt,loss='categorical_crossentropy')\n",
    "model=nn.fit(xtr_arr,ytr_arr,epochs=300)"
   ]
  },
  {
   "cell_type": "markdown",
   "id": "a4168e2f",
   "metadata": {},
   "source": [
    "## Preparing data for output"
   ]
  },
  {
   "cell_type": "code",
   "execution_count": 765,
   "id": "7988cf66",
   "metadata": {},
   "outputs": [
    {
     "name": "stdout",
     "output_type": "stream",
     "text": [
      "Enter Sentence (4 words)PROJECT GUTENBERGS THE ADVENTURE\n"
     ]
    },
    {
     "data": {
      "text/plain": [
       "'PROJECT GUTENBERGS THE ADVENTURE'"
      ]
     },
     "execution_count": 765,
     "metadata": {},
     "output_type": "execute_result"
    }
   ],
   "source": [
    "user_input=input('Enter Sentence (4 words)')\n",
    "user_input.upper()"
   ]
  },
  {
   "cell_type": "code",
   "execution_count": 766,
   "id": "856c9f27",
   "metadata": {},
   "outputs": [],
   "source": [
    "inp_array=zeros((1,uniques,4))"
   ]
  },
  {
   "cell_type": "code",
   "execution_count": 767,
   "id": "fb857359",
   "metadata": {},
   "outputs": [],
   "source": [
    "for word_no,word in enumerate(user_input.split(' ')):\n",
    "    inp_array[0,position_finder[word],word_no]"
   ]
  },
  {
   "cell_type": "code",
   "execution_count": 768,
   "id": "fb064e8c",
   "metadata": {},
   "outputs": [
    {
     "data": {
      "text/html": [
       "<div>\n",
       "<style scoped>\n",
       "    .dataframe tbody tr th:only-of-type {\n",
       "        vertical-align: middle;\n",
       "    }\n",
       "\n",
       "    .dataframe tbody tr th {\n",
       "        vertical-align: top;\n",
       "    }\n",
       "\n",
       "    .dataframe thead th {\n",
       "        text-align: right;\n",
       "    }\n",
       "</style>\n",
       "<table border=\"1\" class=\"dataframe\">\n",
       "  <thead>\n",
       "    <tr style=\"text-align: right;\">\n",
       "      <th></th>\n",
       "      <th>Word</th>\n",
       "      <th>prob</th>\n",
       "    </tr>\n",
       "  </thead>\n",
       "  <tbody>\n",
       "    <tr>\n",
       "      <th>0</th>\n",
       "      <td>1661LAST</td>\n",
       "      <td>0.006763</td>\n",
       "    </tr>\n",
       "    <tr>\n",
       "      <th>1</th>\n",
       "      <td>20</td>\n",
       "      <td>0.000315</td>\n",
       "    </tr>\n",
       "    <tr>\n",
       "      <th>2</th>\n",
       "      <td>2002</td>\n",
       "      <td>0.007859</td>\n",
       "    </tr>\n",
       "    <tr>\n",
       "      <th>3</th>\n",
       "      <td>2019LANGUAGE</td>\n",
       "      <td>0.000479</td>\n",
       "    </tr>\n",
       "    <tr>\n",
       "      <th>4</th>\n",
       "      <td>29</td>\n",
       "      <td>0.006080</td>\n",
       "    </tr>\n",
       "    <tr>\n",
       "      <th>5</th>\n",
       "      <td>A</td>\n",
       "      <td>0.013835</td>\n",
       "    </tr>\n",
       "    <tr>\n",
       "      <th>6</th>\n",
       "      <td>ABHORRENT</td>\n",
       "      <td>0.000413</td>\n",
       "    </tr>\n",
       "    <tr>\n",
       "      <th>7</th>\n",
       "      <td>ABSORB</td>\n",
       "      <td>0.000799</td>\n",
       "    </tr>\n",
       "    <tr>\n",
       "      <th>8</th>\n",
       "      <td>ACTIONS</td>\n",
       "      <td>0.009894</td>\n",
       "    </tr>\n",
       "    <tr>\n",
       "      <th>9</th>\n",
       "      <td>ADLER</td>\n",
       "      <td>0.000378</td>\n",
       "    </tr>\n",
       "    <tr>\n",
       "      <th>10</th>\n",
       "      <td>ADMIRABLE</td>\n",
       "      <td>0.000937</td>\n",
       "    </tr>\n",
       "    <tr>\n",
       "      <th>11</th>\n",
       "      <td>ADMIRABLY</td>\n",
       "      <td>0.000792</td>\n",
       "    </tr>\n",
       "    <tr>\n",
       "      <th>12</th>\n",
       "      <td>ADMIT</td>\n",
       "      <td>0.000515</td>\n",
       "    </tr>\n",
       "    <tr>\n",
       "      <th>13</th>\n",
       "      <td>ADVENTURE</td>\n",
       "      <td>0.000484</td>\n",
       "    </tr>\n",
       "    <tr>\n",
       "      <th>14</th>\n",
       "      <td>ADVENTURES</td>\n",
       "      <td>0.000964</td>\n",
       "    </tr>\n",
       "    <tr>\n",
       "      <th>15</th>\n",
       "      <td>AFALSE</td>\n",
       "      <td>0.001395</td>\n",
       "    </tr>\n",
       "    <tr>\n",
       "      <th>16</th>\n",
       "      <td>ALL</td>\n",
       "      <td>0.011156</td>\n",
       "    </tr>\n",
       "    <tr>\n",
       "      <th>17</th>\n",
       "      <td>ALTERNATING</td>\n",
       "      <td>0.006985</td>\n",
       "    </tr>\n",
       "    <tr>\n",
       "      <th>18</th>\n",
       "      <td>ALWAYS</td>\n",
       "      <td>0.001232</td>\n",
       "    </tr>\n",
       "    <tr>\n",
       "      <th>19</th>\n",
       "      <td>AMBITIONTHE</td>\n",
       "      <td>0.001005</td>\n",
       "    </tr>\n",
       "  </tbody>\n",
       "</table>\n",
       "</div>"
      ],
      "text/plain": [
       "            Word      prob\n",
       "0       1661LAST  0.006763\n",
       "1             20  0.000315\n",
       "2           2002  0.007859\n",
       "3   2019LANGUAGE  0.000479\n",
       "4             29  0.006080\n",
       "5              A  0.013835\n",
       "6      ABHORRENT  0.000413\n",
       "7         ABSORB  0.000799\n",
       "8        ACTIONS  0.009894\n",
       "9          ADLER  0.000378\n",
       "10     ADMIRABLE  0.000937\n",
       "11     ADMIRABLY  0.000792\n",
       "12         ADMIT  0.000515\n",
       "13     ADVENTURE  0.000484\n",
       "14    ADVENTURES  0.000964\n",
       "15        AFALSE  0.001395\n",
       "16           ALL  0.011156\n",
       "17   ALTERNATING  0.006985\n",
       "18        ALWAYS  0.001232\n",
       "19   AMBITIONTHE  0.001005"
      ]
     },
     "execution_count": 768,
     "metadata": {},
     "output_type": "execute_result"
    }
   ],
   "source": [
    "import pandas as pd\n",
    "B=pd.DataFrame(zip(unique_words,list(nn.predict(inp_array)[0])),columns=['Word','prob'])\n",
    "B.head(20)"
   ]
  },
  {
   "cell_type": "code",
   "execution_count": 769,
   "id": "924d3943",
   "metadata": {},
   "outputs": [],
   "source": [
    "x=B.prob.max()\n",
    "Predicted_Word=B[B.prob == x].Word.values[0]"
   ]
  },
  {
   "cell_type": "code",
   "execution_count": 770,
   "id": "f49118b8",
   "metadata": {},
   "outputs": [],
   "source": [
    "#Predicted word with sentence"
   ]
  },
  {
   "cell_type": "code",
   "execution_count": 771,
   "id": "b92a6b9a",
   "metadata": {},
   "outputs": [
    {
     "name": "stdout",
     "output_type": "stream",
     "text": [
      "PROJECT GUTENBERGS THE ADVENTURE OF\n"
     ]
    }
   ],
   "source": [
    "print(user_input,Predicted_Word)"
   ]
  },
  {
   "cell_type": "code",
   "execution_count": null,
   "id": "11e16cd7",
   "metadata": {},
   "outputs": [],
   "source": []
  },
  {
   "cell_type": "code",
   "execution_count": null,
   "id": "d09df054",
   "metadata": {},
   "outputs": [],
   "source": []
  }
 ],
 "metadata": {
  "kernelspec": {
   "display_name": "Python 3",
   "language": "python",
   "name": "python3"
  }
 },
 "nbformat": 4,
 "nbformat_minor": 5
}
